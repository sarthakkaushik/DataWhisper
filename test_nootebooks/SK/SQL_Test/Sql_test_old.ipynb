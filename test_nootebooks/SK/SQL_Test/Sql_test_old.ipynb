{
 "cells": [
  {
   "cell_type": "code",
   "execution_count": 20,
   "metadata": {},
   "outputs": [],
   "source": [
    "# Import required libraries\n",
    "import sqlite3\n",
    "import pandas as pd"
   ]
  },
  {
   "cell_type": "code",
   "execution_count": 21,
   "metadata": {},
   "outputs": [],
   "source": [
    "# Step 1: Connect to the SQLite database\n",
    "DATABASE_NAME = \"csv_data.db\"\n",
    "conn = sqlite3.connect(DATABASE_NAME)"
   ]
  },
  {
   "cell_type": "code",
   "execution_count": 22,
   "metadata": {},
   "outputs": [],
   "source": [
    "# Step 2: Get the list of all tables in the database\n",
    "cursor = conn.cursor()\n",
    "cursor.execute(\"SELECT name FROM sqlite_master WHERE type='table';\")\n",
    "tables = cursor.fetchall()"
   ]
  },
  {
   "cell_type": "code",
   "execution_count": 23,
   "metadata": {},
   "outputs": [
    {
     "name": "stdout",
     "output_type": "stream",
     "text": [
      "Tables in the database:\n",
      "Actual_Daily_Sales\n",
      "LLMData\n",
      "Product_master\n",
      "Market_data\n"
     ]
    }
   ],
   "source": [
    "print(\"Tables in the database:\")\n",
    "for table in tables:\n",
    "  print(table[0])"
   ]
  },
  {
   "cell_type": "code",
   "execution_count": 24,
   "metadata": {},
   "outputs": [],
   "source": [
    "# Step 3: Function to display data from a specific table\n",
    "def display_table_data(table_name):\n",
    "  query = f\"SELECT * FROM '{table_name}' LIMIT 5;\"\n",
    "  df = pd.read_sql_query(query, conn)\n",
    "  print(f\"\\nFirst 5 rows of table '{table_name}':\")\n",
    "  display(df)"
   ]
  },
  {
   "cell_type": "code",
   "execution_count": 25,
   "metadata": {},
   "outputs": [
    {
     "name": "stdout",
     "output_type": "stream",
     "text": [
      "\n",
      "First 5 rows of table 'Actual_Daily_Sales':\n"
     ]
    },
    {
     "data": {
      "text/html": [
       "<div>\n",
       "<style scoped>\n",
       "    .dataframe tbody tr th:only-of-type {\n",
       "        vertical-align: middle;\n",
       "    }\n",
       "\n",
       "    .dataframe tbody tr th {\n",
       "        vertical-align: top;\n",
       "    }\n",
       "\n",
       "    .dataframe thead th {\n",
       "        text-align: right;\n",
       "    }\n",
       "</style>\n",
       "<table border=\"1\" class=\"dataframe\">\n",
       "  <thead>\n",
       "    <tr style=\"text-align: right;\">\n",
       "      <th></th>\n",
       "      <th>Country</th>\n",
       "      <th>Product</th>\n",
       "      <th>FY Year</th>\n",
       "      <th>Month</th>\n",
       "      <th>Actual Sales</th>\n",
       "      <th>Budget</th>\n",
       "      <th>LE (Latest Estimate) Estimation of sales for running 12 months</th>\n",
       "    </tr>\n",
       "  </thead>\n",
       "  <tbody>\n",
       "    <tr>\n",
       "      <th>0</th>\n",
       "      <td>Russia</td>\n",
       "      <td>P#1</td>\n",
       "      <td>2024</td>\n",
       "      <td>1</td>\n",
       "      <td>680066</td>\n",
       "      <td>680311</td>\n",
       "      <td>680342</td>\n",
       "    </tr>\n",
       "    <tr>\n",
       "      <th>1</th>\n",
       "      <td>Russia</td>\n",
       "      <td>P#1</td>\n",
       "      <td>2024</td>\n",
       "      <td>2</td>\n",
       "      <td>984269</td>\n",
       "      <td>984514</td>\n",
       "      <td>984545</td>\n",
       "    </tr>\n",
       "    <tr>\n",
       "      <th>2</th>\n",
       "      <td>Russia</td>\n",
       "      <td>P#1</td>\n",
       "      <td>2024</td>\n",
       "      <td>3</td>\n",
       "      <td>692327</td>\n",
       "      <td>692572</td>\n",
       "      <td>692603</td>\n",
       "    </tr>\n",
       "    <tr>\n",
       "      <th>3</th>\n",
       "      <td>Russia</td>\n",
       "      <td>P#1</td>\n",
       "      <td>2024</td>\n",
       "      <td>4</td>\n",
       "      <td>943126</td>\n",
       "      <td>943371</td>\n",
       "      <td>943402</td>\n",
       "    </tr>\n",
       "    <tr>\n",
       "      <th>4</th>\n",
       "      <td>Russia</td>\n",
       "      <td>P#1</td>\n",
       "      <td>2024</td>\n",
       "      <td>5</td>\n",
       "      <td>976196</td>\n",
       "      <td>976441</td>\n",
       "      <td>976472</td>\n",
       "    </tr>\n",
       "  </tbody>\n",
       "</table>\n",
       "</div>"
      ],
      "text/plain": [
       "  Country Product  FY Year  Month  Actual Sales  Budget  \\\n",
       "0  Russia     P#1     2024      1        680066  680311   \n",
       "1  Russia     P#1     2024      2        984269  984514   \n",
       "2  Russia     P#1     2024      3        692327  692572   \n",
       "3  Russia     P#1     2024      4        943126  943371   \n",
       "4  Russia     P#1     2024      5        976196  976441   \n",
       "\n",
       "   LE (Latest Estimate) Estimation of sales for running 12 months  \n",
       "0                                             680342               \n",
       "1                                             984545               \n",
       "2                                             692603               \n",
       "3                                             943402               \n",
       "4                                             976472               "
      ]
     },
     "metadata": {},
     "output_type": "display_data"
    },
    {
     "name": "stdout",
     "output_type": "stream",
     "text": [
      "\n",
      "First 5 rows of table 'LLMData':\n"
     ]
    },
    {
     "data": {
      "text/html": [
       "<div>\n",
       "<style scoped>\n",
       "    .dataframe tbody tr th:only-of-type {\n",
       "        vertical-align: middle;\n",
       "    }\n",
       "\n",
       "    .dataframe tbody tr th {\n",
       "        vertical-align: top;\n",
       "    }\n",
       "\n",
       "    .dataframe thead th {\n",
       "        text-align: right;\n",
       "    }\n",
       "</style>\n",
       "<table border=\"1\" class=\"dataframe\">\n",
       "  <thead>\n",
       "    <tr style=\"text-align: right;\">\n",
       "      <th></th>\n",
       "      <th>ID</th>\n",
       "      <th>Country</th>\n",
       "      <th>Product</th>\n",
       "      <th>FY Year</th>\n",
       "      <th>Month</th>\n",
       "      <th>Actual Sales</th>\n",
       "      <th>Budget</th>\n",
       "      <th>LE (Latest Estimate) Estimation of sales for running 12 months</th>\n",
       "    </tr>\n",
       "  </thead>\n",
       "  <tbody>\n",
       "    <tr>\n",
       "      <th>0</th>\n",
       "      <td>1</td>\n",
       "      <td>Russia</td>\n",
       "      <td>P#1 - INS</td>\n",
       "      <td>2024</td>\n",
       "      <td>1</td>\n",
       "      <td>680066</td>\n",
       "      <td>680311</td>\n",
       "      <td>680342</td>\n",
       "    </tr>\n",
       "    <tr>\n",
       "      <th>1</th>\n",
       "      <td>2</td>\n",
       "      <td>Russia</td>\n",
       "      <td>P#1 - INS</td>\n",
       "      <td>2024</td>\n",
       "      <td>2</td>\n",
       "      <td>984269</td>\n",
       "      <td>984514</td>\n",
       "      <td>984545</td>\n",
       "    </tr>\n",
       "    <tr>\n",
       "      <th>2</th>\n",
       "      <td>3</td>\n",
       "      <td>Russia</td>\n",
       "      <td>P#1 - INS</td>\n",
       "      <td>2024</td>\n",
       "      <td>3</td>\n",
       "      <td>692327</td>\n",
       "      <td>692572</td>\n",
       "      <td>692603</td>\n",
       "    </tr>\n",
       "    <tr>\n",
       "      <th>3</th>\n",
       "      <td>4</td>\n",
       "      <td>Russia</td>\n",
       "      <td>P#1 - INS</td>\n",
       "      <td>2024</td>\n",
       "      <td>4</td>\n",
       "      <td>943126</td>\n",
       "      <td>943371</td>\n",
       "      <td>943402</td>\n",
       "    </tr>\n",
       "    <tr>\n",
       "      <th>4</th>\n",
       "      <td>5</td>\n",
       "      <td>Russia</td>\n",
       "      <td>P#1 - INS</td>\n",
       "      <td>2024</td>\n",
       "      <td>5</td>\n",
       "      <td>976196</td>\n",
       "      <td>976441</td>\n",
       "      <td>976472</td>\n",
       "    </tr>\n",
       "  </tbody>\n",
       "</table>\n",
       "</div>"
      ],
      "text/plain": [
       "   ID Country    Product  FY Year  Month  Actual Sales  Budget  \\\n",
       "0   1  Russia  P#1 - INS     2024      1        680066  680311   \n",
       "1   2  Russia  P#1 - INS     2024      2        984269  984514   \n",
       "2   3  Russia  P#1 - INS     2024      3        692327  692572   \n",
       "3   4  Russia  P#1 - INS     2024      4        943126  943371   \n",
       "4   5  Russia  P#1 - INS     2024      5        976196  976441   \n",
       "\n",
       "   LE (Latest Estimate) Estimation of sales for running 12 months  \n",
       "0                                             680342               \n",
       "1                                             984545               \n",
       "2                                             692603               \n",
       "3                                             943402               \n",
       "4                                             976472               "
      ]
     },
     "metadata": {},
     "output_type": "display_data"
    },
    {
     "name": "stdout",
     "output_type": "stream",
     "text": [
      "\n",
      "First 5 rows of table 'Product_master':\n"
     ]
    },
    {
     "data": {
      "text/html": [
       "<div>\n",
       "<style scoped>\n",
       "    .dataframe tbody tr th:only-of-type {\n",
       "        vertical-align: middle;\n",
       "    }\n",
       "\n",
       "    .dataframe tbody tr th {\n",
       "        vertical-align: top;\n",
       "    }\n",
       "\n",
       "    .dataframe thead th {\n",
       "        text-align: right;\n",
       "    }\n",
       "</style>\n",
       "<table border=\"1\" class=\"dataframe\">\n",
       "  <thead>\n",
       "    <tr style=\"text-align: right;\">\n",
       "      <th></th>\n",
       "      <th>PK_SKU_ID (Product Code)</th>\n",
       "      <th>Molecule</th>\n",
       "      <th>PackSize (How many tablets in each pack)</th>\n",
       "      <th>Channel</th>\n",
       "      <th>LaunchYear (Product Launch Year)</th>\n",
       "      <th>LaunchMonth</th>\n",
       "      <th>LaunchDate</th>\n",
       "      <th>Brand</th>\n",
       "    </tr>\n",
       "  </thead>\n",
       "  <tbody>\n",
       "    <tr>\n",
       "      <th>0</th>\n",
       "      <td>P#1</td>\n",
       "      <td>A</td>\n",
       "      <td>1</td>\n",
       "      <td>None</td>\n",
       "      <td>2021</td>\n",
       "      <td>June</td>\n",
       "      <td>06/01/2021</td>\n",
       "      <td>Carboprost</td>\n",
       "    </tr>\n",
       "    <tr>\n",
       "      <th>1</th>\n",
       "      <td>P#2</td>\n",
       "      <td>B</td>\n",
       "      <td>1</td>\n",
       "      <td>Oncology</td>\n",
       "      <td>2020</td>\n",
       "      <td>June</td>\n",
       "      <td>06/01/2020</td>\n",
       "      <td>Cisplatin</td>\n",
       "    </tr>\n",
       "    <tr>\n",
       "      <th>2</th>\n",
       "      <td>P#3</td>\n",
       "      <td>C</td>\n",
       "      <td>10</td>\n",
       "      <td>ASCO</td>\n",
       "      <td>2022</td>\n",
       "      <td>April</td>\n",
       "      <td>04/01/2022</td>\n",
       "      <td>Paracetamol</td>\n",
       "    </tr>\n",
       "    <tr>\n",
       "      <th>3</th>\n",
       "      <td>P#4</td>\n",
       "      <td>D</td>\n",
       "      <td>8</td>\n",
       "      <td>OncLive</td>\n",
       "      <td>2021</td>\n",
       "      <td>May</td>\n",
       "      <td>05/01/2021</td>\n",
       "      <td>Aspirin</td>\n",
       "    </tr>\n",
       "    <tr>\n",
       "      <th>4</th>\n",
       "      <td>P#5</td>\n",
       "      <td>E</td>\n",
       "      <td>1</td>\n",
       "      <td>CME</td>\n",
       "      <td>2023</td>\n",
       "      <td>January</td>\n",
       "      <td>01/01/2023</td>\n",
       "      <td>Eye Plus</td>\n",
       "    </tr>\n",
       "  </tbody>\n",
       "</table>\n",
       "</div>"
      ],
      "text/plain": [
       "  PK_SKU_ID (Product Code) Molecule  PackSize (How many tablets in each pack)  \\\n",
       "0                      P#1        A                                         1   \n",
       "1                      P#2        B                                         1   \n",
       "2                      P#3        C                                        10   \n",
       "3                      P#4        D                                         8   \n",
       "4                      P#5        E                                         1   \n",
       "\n",
       "    Channel  LaunchYear (Product Launch Year) LaunchMonth  LaunchDate  \\\n",
       "0      None                              2021        June  06/01/2021   \n",
       "1  Oncology                              2020        June  06/01/2020   \n",
       "2      ASCO                              2022       April  04/01/2022   \n",
       "3   OncLive                              2021         May  05/01/2021   \n",
       "4       CME                              2023     January  01/01/2023   \n",
       "\n",
       "         Brand  \n",
       "0   Carboprost  \n",
       "1    Cisplatin  \n",
       "2  Paracetamol  \n",
       "3      Aspirin  \n",
       "4     Eye Plus  "
      ]
     },
     "metadata": {},
     "output_type": "display_data"
    },
    {
     "name": "stdout",
     "output_type": "stream",
     "text": [
      "\n",
      "First 5 rows of table 'Market_data':\n"
     ]
    },
    {
     "data": {
      "text/html": [
       "<div>\n",
       "<style scoped>\n",
       "    .dataframe tbody tr th:only-of-type {\n",
       "        vertical-align: middle;\n",
       "    }\n",
       "\n",
       "    .dataframe tbody tr th {\n",
       "        vertical-align: top;\n",
       "    }\n",
       "\n",
       "    .dataframe thead th {\n",
       "        text-align: right;\n",
       "    }\n",
       "</style>\n",
       "<table border=\"1\" class=\"dataframe\">\n",
       "  <thead>\n",
       "    <tr style=\"text-align: right;\">\n",
       "      <th></th>\n",
       "      <th>Country</th>\n",
       "      <th>Product</th>\n",
       "      <th>FY Year</th>\n",
       "      <th>Month</th>\n",
       "      <th>DRL Sales</th>\n",
       "      <th>Market Sales</th>\n",
       "    </tr>\n",
       "  </thead>\n",
       "  <tbody>\n",
       "    <tr>\n",
       "      <th>0</th>\n",
       "      <td>Russia</td>\n",
       "      <td>P#1</td>\n",
       "      <td>2024</td>\n",
       "      <td>1</td>\n",
       "      <td>680066</td>\n",
       "      <td>3518031</td>\n",
       "    </tr>\n",
       "    <tr>\n",
       "      <th>1</th>\n",
       "      <td>Russia</td>\n",
       "      <td>P#1</td>\n",
       "      <td>2024</td>\n",
       "      <td>2</td>\n",
       "      <td>984269</td>\n",
       "      <td>3860511</td>\n",
       "    </tr>\n",
       "    <tr>\n",
       "      <th>2</th>\n",
       "      <td>Russia</td>\n",
       "      <td>P#1</td>\n",
       "      <td>2024</td>\n",
       "      <td>3</td>\n",
       "      <td>692327</td>\n",
       "      <td>2484693</td>\n",
       "    </tr>\n",
       "    <tr>\n",
       "      <th>3</th>\n",
       "      <td>Russia</td>\n",
       "      <td>P#1</td>\n",
       "      <td>2024</td>\n",
       "      <td>4</td>\n",
       "      <td>943126</td>\n",
       "      <td>2562118</td>\n",
       "    </tr>\n",
       "    <tr>\n",
       "      <th>4</th>\n",
       "      <td>Russia</td>\n",
       "      <td>P#1</td>\n",
       "      <td>2024</td>\n",
       "      <td>5</td>\n",
       "      <td>976196</td>\n",
       "      <td>3169055</td>\n",
       "    </tr>\n",
       "  </tbody>\n",
       "</table>\n",
       "</div>"
      ],
      "text/plain": [
       "  Country Product  FY Year  Month  DRL Sales  Market Sales\n",
       "0  Russia     P#1     2024      1     680066       3518031\n",
       "1  Russia     P#1     2024      2     984269       3860511\n",
       "2  Russia     P#1     2024      3     692327       2484693\n",
       "3  Russia     P#1     2024      4     943126       2562118\n",
       "4  Russia     P#1     2024      5     976196       3169055"
      ]
     },
     "metadata": {},
     "output_type": "display_data"
    }
   ],
   "source": [
    "# Step 4: Display data from each table\n",
    "for table in tables:\n",
    "  display_table_data(table[0])"
   ]
  },
  {
   "cell_type": "markdown",
   "metadata": {},
   "source": [
    "## Langgraph"
   ]
  },
  {
   "cell_type": "code",
   "execution_count": 1,
   "metadata": {},
   "outputs": [],
   "source": [
    "\n",
    "from langchain_community.utilities import SQLDatabase\n",
    "from langchain_openai import AzureChatOpenAI\n",
    "from langchain_openai import AzureOpenAIEmbeddings\n",
    "import os\n",
    "from dotenv import load_dotenv\n",
    "\n",
    "load_dotenv()\n",
    "\n",
    "db = SQLDatabase.from_uri(\"sqlite:///csv_data.db\")"
   ]
  },
  {
   "cell_type": "code",
   "execution_count": 10,
   "metadata": {},
   "outputs": [],
   "source": [
    "# aoai_api_key = os.getenv(\"AZURE_OPENAI_API_KEY\") \n",
    "# aoai_endpoint = os.getenv(\"AZURE_OPENAI_ENDPOINT\")\n",
    "aoai_api_version = os.getenv(\"AZURE_OPENAI_API_VERSION\")\n",
    "aoai_api_key = os.getenv(\"A_KEY\") \n",
    "aoai_endpoint = os.getenv(\"A_ENDPOINT\")\n",
    "llm = AzureChatOpenAI(\n",
    "    model=\"gpt-4\",\n",
    "    deployment_name=\"gpt-4\",\n",
    "    api_key=aoai_api_key,\n",
    "    azure_endpoint=aoai_endpoint,\n",
    "    api_version=aoai_api_version,\n",
    ")"
   ]
  },
  {
   "cell_type": "code",
   "execution_count": 12,
   "metadata": {},
   "outputs": [
    {
     "data": {
      "text/plain": [
       "AIMessage(content=\"As an AI, I don't have specific information about your current model usage unless it is specified in the context of the conversation. Are you referring to a model of a device, a car, or a theoretical model? Could you provide more details?\", response_metadata={'token_usage': {'completion_tokens': 50, 'prompt_tokens': 12, 'total_tokens': 62}, 'model_name': 'gpt-4', 'system_fingerprint': None, 'finish_reason': 'stop', 'logprobs': None, 'content_filter_results': {}}, id='run-9cf34bb1-194f-4a12-aba7-8fae38c81427-0', usage_metadata={'input_tokens': 12, 'output_tokens': 50, 'total_tokens': 62})"
      ]
     },
     "execution_count": 12,
     "metadata": {},
     "output_type": "execute_result"
    }
   ],
   "source": [
    "llm.invoke(\"which model am I using\")"
   ]
  },
  {
   "cell_type": "code",
   "execution_count": 28,
   "metadata": {},
   "outputs": [
    {
     "name": "stdout",
     "output_type": "stream",
     "text": [
      "sqlite\n",
      "['Actual_Daily_Sales', 'LLMData', 'Market_data', 'Product_master']\n"
     ]
    },
    {
     "data": {
      "text/plain": [
       "\"[('Russia', 'P#1', 2024, 1, 680066, 3518031), ('Russia', 'P#1', 2024, 2, 984269, 3860511), ('Russia', 'P#1', 2024, 3, 692327, 2484693), ('Russia', 'P#1', 2024, 4, 943126, 2562118), ('Russia', 'P#1', 2024, 5, 976196, 3169055), ('Russia', 'P#1', 2024, 6, 908763, 2294078), ('Russia', 'P#1', 2024, 7, 953829, 7123710), ('Russia', 'P#1', 2024, 8, 554489, 1511181), ('Russia', 'P#1', 2024, 9, 663627, 4934935), ('Russia', 'P#1', 2024, 10, 797375, 3829590)]\""
      ]
     },
     "execution_count": 28,
     "metadata": {},
     "output_type": "execute_result"
    }
   ],
   "source": [
    "print(db.dialect)\n",
    "print(db.get_usable_table_names())\n",
    "db.run(\"SELECT * FROM Market_data LIMIT 10;\")"
   ]
  },
  {
   "cell_type": "code",
   "execution_count": 29,
   "metadata": {},
   "outputs": [],
   "source": [
    "from typing import Any\n",
    "\n",
    "from langchain_core.messages import ToolMessage\n",
    "from langchain_core.runnables import RunnableLambda, RunnableWithFallbacks\n",
    "from langgraph.prebuilt import ToolNode\n",
    "\n",
    "\n",
    "def create_tool_node_with_fallback(tools: list) -> RunnableWithFallbacks[Any, dict]:\n",
    "    \"\"\"\n",
    "    Create a ToolNode with a fallback to handle errors and surface them to the agent.\n",
    "    \"\"\"\n",
    "    return ToolNode(tools).with_fallbacks(\n",
    "        [RunnableLambda(handle_tool_error)], exception_key=\"error\"\n",
    "    )\n",
    "\n",
    "\n",
    "def handle_tool_error(state) -> dict:\n",
    "    error = state.get(\"error\")\n",
    "    tool_calls = state[\"messages\"][-1].tool_calls\n",
    "    return {\n",
    "        \"messages\": [\n",
    "            ToolMessage(\n",
    "                content=f\"Error: {repr(error)}\\n please fix your mistakes.\",\n",
    "                tool_call_id=tc[\"id\"],\n",
    "            )\n",
    "            for tc in tool_calls\n",
    "        ]\n",
    "    }"
   ]
  },
  {
   "cell_type": "code",
   "execution_count": 30,
   "metadata": {},
   "outputs": [
    {
     "name": "stdout",
     "output_type": "stream",
     "text": [
      "Actual_Daily_Sales, LLMData, Market_data, Product_master\n",
      "\n",
      "CREATE TABLE \"Market_data\" (\n",
      "\t\"Country\" TEXT, \n",
      "\t\"Product\" TEXT, \n",
      "\t\"FY Year\" INTEGER, \n",
      "\t\"Month\" INTEGER, \n",
      "\t\"DRL Sales\" INTEGER, \n",
      "\t\"Market Sales\" INTEGER\n",
      ")\n",
      "\n",
      "/*\n",
      "3 rows from Market_data table:\n",
      "Country\tProduct\tFY Year\tMonth\tDRL Sales\tMarket Sales\n",
      "Russia\tP#1\t2024\t1\t680066\t3518031\n",
      "Russia\tP#1\t2024\t2\t984269\t3860511\n",
      "Russia\tP#1\t2024\t3\t692327\t2484693\n",
      "*/\n"
     ]
    }
   ],
   "source": [
    "from langchain_community.agent_toolkits import SQLDatabaseToolkit\n",
    "from langchain_openai import ChatOpenAI\n",
    "\n",
    "toolkit = SQLDatabaseToolkit(db=db, llm=llm)\n",
    "tools = toolkit.get_tools()\n",
    "\n",
    "list_tables_tool = next(tool for tool in tools if tool.name == \"sql_db_list_tables\")\n",
    "get_schema_tool = next(tool for tool in tools if tool.name == \"sql_db_schema\")\n",
    "\n",
    "print(list_tables_tool.invoke(\"\"))\n",
    "\n",
    "print(get_schema_tool.invoke(\"Market_data\"))"
   ]
  },
  {
   "cell_type": "code",
   "execution_count": 31,
   "metadata": {},
   "outputs": [
    {
     "name": "stdout",
     "output_type": "stream",
     "text": [
      "[('Russia', 'P#1', 2024, 1, 680066, 3518031), ('Russia', 'P#1', 2024, 2, 984269, 3860511), ('Russia', 'P#1', 2024, 3, 692327, 2484693), ('Russia', 'P#1', 2024, 4, 943126, 2562118), ('Russia', 'P#1', 2024, 5, 976196, 3169055), ('Russia', 'P#1', 2024, 6, 908763, 2294078), ('Russia', 'P#1', 2024, 7, 953829, 7123710), ('Russia', 'P#1', 2024, 8, 554489, 1511181), ('Russia', 'P#1', 2024, 9, 663627, 4934935), ('Russia', 'P#1', 2024, 10, 797375, 3829590)]\n"
     ]
    }
   ],
   "source": [
    "from langchain_core.tools import tool\n",
    "\n",
    "\n",
    "\n",
    "@tool\n",
    "def db_query_tool(query: str) -> str:\n",
    "    \"\"\"\n",
    "    Execute a SQL query against the database and get back the result.\n",
    "    If the query is not correct, an error message will be returned.\n",
    "    If an error is returned, rewrite the query, check the query, and try again.\n",
    "    \"\"\"\n",
    "    result = db.run_no_throw(query)\n",
    "    if not result:\n",
    "        return \"Error: Query failed. Please rewrite your query and try again.\"\n",
    "    return result\n",
    "\n",
    "\n",
    "print(db_query_tool.invoke(\"SELECT * FROM Market_data LIMIT 10;\"))"
   ]
  },
  {
   "cell_type": "code",
   "execution_count": 32,
   "metadata": {},
   "outputs": [
    {
     "data": {
      "text/plain": [
       "AIMessage(content='', additional_kwargs={'tool_calls': [{'id': 'call_pvDSID5ArIoxiVBwThEKvTqN', 'function': {'arguments': '{\"query\":\"SELECT * FROM Market_data LIMIT 10;\"}', 'name': 'db_query_tool'}, 'type': 'function'}]}, response_metadata={'token_usage': {'completion_tokens': 13, 'prompt_tokens': 363, 'total_tokens': 376}, 'model_name': 'gpt-4o-2024-05-13', 'system_fingerprint': 'fp_abc28019ad', 'finish_reason': 'stop', 'logprobs': None, 'content_filter_results': {}}, id='run-7fed3ab9-b785-4252-8cdc-3178141e660d-0', tool_calls=[{'name': 'db_query_tool', 'args': {'query': 'SELECT * FROM Market_data LIMIT 10;'}, 'id': 'call_pvDSID5ArIoxiVBwThEKvTqN', 'type': 'tool_call'}], usage_metadata={'input_tokens': 363, 'output_tokens': 13, 'total_tokens': 376})"
      ]
     },
     "execution_count": 32,
     "metadata": {},
     "output_type": "execute_result"
    }
   ],
   "source": [
    "from langchain_core.prompts import ChatPromptTemplate\n",
    "\n",
    "query_check_system = \"\"\"You are a SQL expert with a strong attention to detail.\n",
    "Double check the SQLite query for common mistakes, including:\n",
    "- Using NOT IN with NULL values\n",
    "- Using UNION when UNION ALL should have been used\n",
    "- Using BETWEEN for exclusive ranges\n",
    "- Data type mismatch in predicates\n",
    "- Properly quoting identifiers\n",
    "- Using the correct number of arguments for functions\n",
    "- Casting to the correct data type\n",
    "- Using the proper columns for joins\n",
    "\n",
    "Question Interpretation:\n",
    "- For certain questions, rephrase or expand the query to ensure comprehensive answers:\n",
    "    Example1: \n",
    "    User: \"Show me Sales Performance by country\"\n",
    "    Interpreted as: \"Show me actual sales, Budget, LE (Latest Estimate), by country\"\n",
    "    Example 2:\n",
    "    User:\"Show me market share percentage for DRL for Russia for each brand wise\"\n",
    "    Interpreted as: -Filter data on the country = Russia\n",
    "                    - Group by Product and calculate total DRL Sales and Market Sales\n",
    "                    - Calculate the market share percentage for each product\n",
    "                    - Finally map each product with their brand name\n",
    "\n",
    "If there are any of the above mistakes, rewrite the query. If there are no mistakes, just reproduce the original query.\n",
    "\n",
    "You will call the appropriate tool to execute the query after running this check.\"\"\"\n",
    "\n",
    "query_check_prompt = ChatPromptTemplate.from_messages(\n",
    "    [(\"system\", query_check_system), (\"placeholder\", \"{messages}\")]\n",
    ")\n",
    "query_check = query_check_prompt | llm.bind_tools(\n",
    "    [db_query_tool], tool_choice=\"required\"\n",
    ")\n",
    "\n",
    "query_check.invoke({\"messages\": [(\"user\", \"SELECT * FROM Market_data  LIMIT 10;\")]})"
   ]
  },
  {
   "cell_type": "code",
   "execution_count": 33,
   "metadata": {},
   "outputs": [],
   "source": [
    "from typing import Annotated, Literal\n",
    "\n",
    "from langchain_core.messages import AIMessage\n",
    "from langchain_core.pydantic_v1 import BaseModel, Field\n",
    "from langchain_openai import ChatOpenAI\n",
    "from typing_extensions import TypedDict\n",
    "\n",
    "from langgraph.graph import END, StateGraph, START\n",
    "from langgraph.graph.message import AnyMessage, add_messages\n",
    "\n",
    "\n",
    "# Define the state for the agent\n",
    "class State(TypedDict):\n",
    "    messages: Annotated[list[AnyMessage], add_messages]\n",
    "\n",
    "\n",
    "# Define a new graph\n",
    "workflow = StateGraph(State)\n",
    "\n",
    "\n",
    "# Add a node for the first tool call\n",
    "def first_tool_call(state: State) -> dict[str, list[AIMessage]]:\n",
    "    return {\n",
    "        \"messages\": [\n",
    "            AIMessage(\n",
    "                content=\"\",\n",
    "                tool_calls=[\n",
    "                    {\n",
    "                        \"name\": \"sql_db_list_tables\",\n",
    "                        \"args\": {},\n",
    "                        \"id\": \"tool_abcd123\",\n",
    "                    }\n",
    "                ],\n",
    "            )\n",
    "        ]\n",
    "    }\n",
    "\n",
    "\n",
    "def model_check_query(state: State) -> dict[str, list[AIMessage]]:\n",
    "    \"\"\"\n",
    "    Use this tool to double-check if your query is correct before executing it.\n",
    "    \"\"\"\n",
    "    return {\"messages\": [query_check.invoke({\"messages\": [state[\"messages\"][-1]]})]}\n",
    "\n",
    "\n",
    "workflow.add_node(\"first_tool_call\", first_tool_call)\n",
    "\n",
    "# Add nodes for the first two tools\n",
    "workflow.add_node(\n",
    "    \"list_tables_tool\", create_tool_node_with_fallback([list_tables_tool])\n",
    ")\n",
    "workflow.add_node(\"get_schema_tool\", create_tool_node_with_fallback([get_schema_tool]))\n",
    "\n",
    "# Add a node for a model to choose the relevant tables based on the question and available tables\n",
    "model_get_schema = llm.bind_tools(\n",
    "    [get_schema_tool]\n",
    ")\n",
    "workflow.add_node(\n",
    "    \"model_get_schema\",\n",
    "    lambda state: {\n",
    "        \"messages\": [model_get_schema.invoke(state[\"messages\"])],\n",
    "    },\n",
    ")\n",
    "\n",
    "\n",
    "# Describe a tool to represent the end state\n",
    "class SubmitFinalAnswer(BaseModel):\n",
    "    \"\"\"Submit the final answer to the user based on the query results.\"\"\"\n",
    "\n",
    "    final_answer: str = Field(..., description=\"The final answer to the user\")\n",
    "\n",
    "\n",
    "# Add a node for a model to generate a query based on the question and schema\n",
    "query_gen_system = \"\"\"You are a SQL expert with a strong attention to detail.\n",
    "\n",
    "Given an input question, output a syntactically correct SQLite query to run, then look at the results of the query and return the answer.\n",
    "\n",
    "DO NOT call any tool besides SubmitFinalAnswer to submit the final answer.\n",
    "\n",
    "When generating the query:\n",
    "\n",
    "ENsure Question Interpretation:\n",
    "        - For certain questions, rephrase or expand the query to ensure comprehensive answers:\n",
    "            Example1: \n",
    "            User: \"Show me Sales Performance by country\"\n",
    "            Interpreted as: \"Show me actual sales, Budget, LE (Latest Estimate), by country\"\n",
    "            Example 2:\n",
    "            User:\"Show me market share percentage for DRL for Russia for each brand wise\"\n",
    "            Interpreted as: -Filter data on the country = Russia\n",
    "                            - Group by Product and calculate total DRL Sales and Market Sales\n",
    "                            - Calculate the market share percentage for each product\n",
    "                            - Finally map each product with their brand name\n",
    "\n",
    "Output the SQL query that answers the input question without a tool call.\n",
    "\n",
    "\n",
    "You can order the results by a relevant column to return the most interesting examples in the database.\n",
    "Never query for all the columns from a specific table, only ask for the relevant columns given the question.\n",
    "\n",
    "If you get an error while executing a query, rewrite the query and try again.\n",
    "\n",
    "If you get an empty result set, you should try to rewrite the query to get a non-empty result set. \n",
    "NEVER make stuff up if you don't have enough information to answer the query... just say you don't have enough information.\n",
    "\n",
    "If you have enough information to answer the input question, simply invoke the appropriate tool to submit the final answer to the user.\n",
    "\n",
    "DO NOT make any DML statements (INSERT, UPDATE, DELETE, DROP etc.) to the database.\"\"\"\n",
    "query_gen_prompt = ChatPromptTemplate.from_messages(\n",
    "    [(\"system\", query_gen_system), (\"placeholder\", \"{messages}\")]\n",
    ")\n",
    "query_gen = query_gen_prompt | llm.bind_tools(\n",
    "    [SubmitFinalAnswer]\n",
    ")\n",
    "\n",
    "\n",
    "def query_gen_node(state: State):\n",
    "    message = query_gen.invoke(state)\n",
    "\n",
    "    # Sometimes, the LLM will hallucinate and call the wrong tool. We need to catch this and return an error message.\n",
    "    tool_messages = []\n",
    "    if message.tool_calls:\n",
    "        for tc in message.tool_calls:\n",
    "            if tc[\"name\"] != \"SubmitFinalAnswer\":\n",
    "                tool_messages.append(\n",
    "                    ToolMessage(\n",
    "                        content=f\"Error: The wrong tool was called: {tc['name']}. Please fix your mistakes. Remember to only call SubmitFinalAnswer to submit the final answer. Generated queries should be outputted WITHOUT a tool call.\",\n",
    "                        tool_call_id=tc[\"id\"],\n",
    "                    )\n",
    "                )\n",
    "    else:\n",
    "        tool_messages = []\n",
    "    return {\"messages\": [message] + tool_messages}\n",
    "\n",
    "\n",
    "workflow.add_node(\"query_gen\", query_gen_node)\n",
    "\n",
    "# Add a node for the model to check the query before executing it\n",
    "workflow.add_node(\"correct_query\", model_check_query)\n",
    "\n",
    "# Add node for executing the query\n",
    "workflow.add_node(\"execute_query\", create_tool_node_with_fallback([db_query_tool]))\n",
    "\n",
    "\n",
    "# Define a conditional edge to decide whether to continue or end the workflow\n",
    "def should_continue(state: State) -> Literal[END, \"correct_query\", \"query_gen\"]:\n",
    "    messages = state[\"messages\"]\n",
    "    last_message = messages[-1]\n",
    "    # If there is a tool call, then we finish\n",
    "    if getattr(last_message, \"tool_calls\", None):\n",
    "        return END\n",
    "    if last_message.content.startswith(\"Error:\"):\n",
    "        return \"query_gen\"\n",
    "    else:\n",
    "        return \"correct_query\"\n",
    "\n",
    "\n",
    "# Specify the edges between the nodes\n",
    "workflow.add_edge(START, \"first_tool_call\")\n",
    "workflow.add_edge(\"first_tool_call\", \"list_tables_tool\")\n",
    "workflow.add_edge(\"list_tables_tool\", \"model_get_schema\")\n",
    "workflow.add_edge(\"model_get_schema\", \"get_schema_tool\")\n",
    "workflow.add_edge(\"get_schema_tool\", \"query_gen\")\n",
    "workflow.add_conditional_edges(\n",
    "    \"query_gen\",\n",
    "    should_continue,\n",
    ")\n",
    "workflow.add_edge(\"correct_query\", \"execute_query\")\n",
    "workflow.add_edge(\"execute_query\", \"query_gen\")\n",
    "\n",
    "# Compile the workflow into a runnable\n",
    "app = workflow.compile()"
   ]
  },
  {
   "cell_type": "code",
   "execution_count": 34,
   "metadata": {},
   "outputs": [
    {
     "data": {
      "image/jpeg": "[encoded data removed]",
      "text/plain": [
       "<IPython.core.display.Image object>"
      ]
     },
     "metadata": {},
     "output_type": "display_data"
    }
   ],
   "source": [
    "from IPython.display import Image, display\n",
    "from langchain_core.runnables.graph import MermaidDrawMethod\n",
    "\n",
    "display(\n",
    "    Image(\n",
    "        app.get_graph().draw_mermaid_png(\n",
    "            draw_method=MermaidDrawMethod.API,\n",
    "        )\n",
    "    )\n",
    ")"
   ]
  },
  {
   "cell_type": "code",
   "execution_count": 37,
   "metadata": {},
   "outputs": [
    {
     "data": {
      "text/plain": [
       "CompiledStateGraph(nodes={'__start__': PregelNode(config={'tags': ['langsmith:hidden'], 'metadata': {}, 'configurable': {}}, channels=['__start__'], triggers=['__start__'], writers=[ChannelWrite<messages>(recurse=True, writes=[ChannelWriteEntry(channel='messages', value=<object object at 0x0000023ADE0F8E20>, skip_none=False, mapper=_get_state_key(recurse=False))], require_at_least_one_of=['messages']), ChannelWrite<start:first_tool_call>(recurse=True, writes=[ChannelWriteEntry(channel='start:first_tool_call', value='__start__', skip_none=False, mapper=None)], require_at_least_one_of=None)]), 'first_tool_call': PregelNode(config={'tags': [], 'metadata': {}, 'configurable': {}}, channels={'messages': 'messages'}, triggers=['start:first_tool_call'], mapper=functools.partial(<function _coerce_state at 0x0000023ADE4D59E0>, <class '__main__.State'>), writers=[ChannelWrite<first_tool_call,messages>(recurse=True, writes=[ChannelWriteEntry(channel='first_tool_call', value='first_tool_call', skip_none=False, mapper=None), ChannelWriteEntry(channel='messages', value=<object object at 0x0000023ADE0F8E20>, skip_none=False, mapper=_get_state_key(recurse=False))], require_at_least_one_of=['messages'])]), 'list_tables_tool': PregelNode(config={'tags': [], 'metadata': {}, 'configurable': {}}, channels={'messages': 'messages'}, triggers=['first_tool_call'], mapper=functools.partial(<function _coerce_state at 0x0000023ADE4D59E0>, <class '__main__.State'>), writers=[ChannelWrite<list_tables_tool,messages>(recurse=True, writes=[ChannelWriteEntry(channel='list_tables_tool', value='list_tables_tool', skip_none=False, mapper=None), ChannelWriteEntry(channel='messages', value=<object object at 0x0000023ADE0F8E20>, skip_none=False, mapper=_get_state_key(recurse=False))], require_at_least_one_of=['messages'])]), 'get_schema_tool': PregelNode(config={'tags': [], 'metadata': {}, 'configurable': {}}, channels={'messages': 'messages'}, triggers=['model_get_schema'], mapper=functools.partial(<function _coerce_state at 0x0000023ADE4D59E0>, <class '__main__.State'>), writers=[ChannelWrite<get_schema_tool,messages>(recurse=True, writes=[ChannelWriteEntry(channel='get_schema_tool', value='get_schema_tool', skip_none=False, mapper=None), ChannelWriteEntry(channel='messages', value=<object object at 0x0000023ADE0F8E20>, skip_none=False, mapper=_get_state_key(recurse=False))], require_at_least_one_of=['messages'])]), 'model_get_schema': PregelNode(config={'tags': [], 'metadata': {}, 'configurable': {}}, channels={'messages': 'messages'}, triggers=['list_tables_tool'], mapper=functools.partial(<function _coerce_state at 0x0000023ADE4D59E0>, <class '__main__.State'>), writers=[ChannelWrite<model_get_schema,messages>(recurse=True, writes=[ChannelWriteEntry(channel='model_get_schema', value='model_get_schema', skip_none=False, mapper=None), ChannelWriteEntry(channel='messages', value=<object object at 0x0000023ADE0F8E20>, skip_none=False, mapper=_get_state_key(recurse=False))], require_at_least_one_of=['messages'])]), 'query_gen': PregelNode(config={'tags': [], 'metadata': {}, 'configurable': {}}, channels={'messages': 'messages'}, triggers=['execute_query', 'get_schema_tool', 'branch:query_gen:should_continue:query_gen'], mapper=functools.partial(<function _coerce_state at 0x0000023ADE4D59E0>, <class '__main__.State'>), writers=[ChannelWrite<query_gen,messages>(recurse=True, writes=[ChannelWriteEntry(channel='query_gen', value='query_gen', skip_none=False, mapper=None), ChannelWriteEntry(channel='messages', value=<object object at 0x0000023ADE0F8E20>, skip_none=False, mapper=_get_state_key(recurse=False))], require_at_least_one_of=['messages']), _route(recurse=True, _is_channel_writer=True)]), 'correct_query': PregelNode(config={'tags': [], 'metadata': {}, 'configurable': {}}, channels={'messages': 'messages'}, triggers=['branch:query_gen:should_continue:correct_query'], mapper=functools.partial(<function _coerce_state at 0x0000023ADE4D59E0>, <class '__main__.State'>), writers=[ChannelWrite<correct_query,messages>(recurse=True, writes=[ChannelWriteEntry(channel='correct_query', value='correct_query', skip_none=False, mapper=None), ChannelWriteEntry(channel='messages', value=<object object at 0x0000023ADE0F8E20>, skip_none=False, mapper=_get_state_key(recurse=False))], require_at_least_one_of=['messages'])]), 'execute_query': PregelNode(config={'tags': [], 'metadata': {}, 'configurable': {}}, channels={'messages': 'messages'}, triggers=['correct_query'], mapper=functools.partial(<function _coerce_state at 0x0000023ADE4D59E0>, <class '__main__.State'>), writers=[ChannelWrite<execute_query,messages>(recurse=True, writes=[ChannelWriteEntry(channel='execute_query', value='execute_query', skip_none=False, mapper=None), ChannelWriteEntry(channel='messages', value=<object object at 0x0000023ADE0F8E20>, skip_none=False, mapper=_get_state_key(recurse=False))], require_at_least_one_of=['messages'])])}, channels={'messages': <langgraph.channels.binop.BinaryOperatorAggregate object at 0x0000023ADE51C050>, '__start__': <langgraph.channels.ephemeral_value.EphemeralValue object at 0x0000023ADE667D70>, 'first_tool_call': <langgraph.channels.ephemeral_value.EphemeralValue object at 0x0000023ADE388B60>, 'list_tables_tool': <langgraph.channels.ephemeral_value.EphemeralValue object at 0x0000023ADE6A4080>, 'get_schema_tool': <langgraph.channels.ephemeral_value.EphemeralValue object at 0x0000023ADE6A4050>, 'model_get_schema': <langgraph.channels.ephemeral_value.EphemeralValue object at 0x0000023ADE573D10>, 'query_gen': <langgraph.channels.ephemeral_value.EphemeralValue object at 0x0000023ADE64D1F0>, 'correct_query': <langgraph.channels.ephemeral_value.EphemeralValue object at 0x0000023ADE6A45C0>, 'execute_query': <langgraph.channels.ephemeral_value.EphemeralValue object at 0x0000023ADE6A4350>, 'start:first_tool_call': <langgraph.channels.ephemeral_value.EphemeralValue object at 0x0000023ADE6A4260>, 'branch:query_gen:should_continue:correct_query': <langgraph.channels.ephemeral_value.EphemeralValue object at 0x0000023ADE6A4110>, 'branch:query_gen:should_continue:query_gen': <langgraph.channels.ephemeral_value.EphemeralValue object at 0x0000023ADE6A4440>}, auto_validate=False, stream_mode='updates', output_channels=['messages'], stream_channels=['messages'], input_channels='__start__', builder=<langgraph.graph.state.StateGraph object at 0x0000023ADE43FFE0>)"
      ]
     },
     "execution_count": 37,
     "metadata": {},
     "output_type": "execute_result"
    }
   ],
   "source": [
    "app"
   ]
  },
  {
   "cell_type": "code",
   "execution_count": 41,
   "metadata": {},
   "outputs": [
    {
     "data": {
      "text/plain": [
       "'Sales Performance by country:\\n\\n1. Brazil:\\n   - Total Actual Sales: 80,340,019\\n   - Total Budget: 82,147,309\\n   - Total Latest Estimate: 82,036,663\\n\\n2. Russia:\\n   - Total Actual Sales: 84,109,609\\n   - Total Budget: 86,799,373\\n   - Total Latest Estimate: 86,659,265'"
      ]
     },
     "execution_count": 41,
     "metadata": {},
     "output_type": "execute_result"
    }
   ],
   "source": [
    "import json\n",
    "# prompt=\"Show me the highest sold product for FY 2023\"\n",
    "# prompt=\"Show me market share percentage for DRL for Russia brand wise\"\n",
    "# prompt=\"Show me growth% by country for each brand from FY23 to Fy 24\"\n",
    "prompt=\"Show me Sales Performance by country\"\n",
    "# prompt=\"Show me market share percentage for DRL for Russia for each brand wise\"\n",
    "# prompt=\"Show me sales by product for FY 2024\"\n",
    "# prompt=\"Show me quarter wise sales trend by product and country\"\n",
    "messages = app.invoke(\n",
    "    {\"messages\": [(\"user\", prompt)]}\n",
    ")\n",
    "json_str = messages[\"messages\"][-1].additional_kwargs[\"tool_calls\"][0][\"function\"][\n",
    "    \"arguments\"\n",
    "]\n",
    "json.loads(json_str)[\"final_answer\"]"
   ]
  },
  {
   "cell_type": "code",
   "execution_count": 42,
   "metadata": {},
   "outputs": [
    {
     "data": {
      "text/markdown": [
       "Sales Performance by country:\n",
       "\n",
       "1. Brazil:\n",
       "   - Total Actual Sales: 80,340,019\n",
       "   - Total Budget: 82,147,309\n",
       "   - Total Latest Estimate: 82,036,663\n",
       "\n",
       "2. Russia:\n",
       "   - Total Actual Sales: 84,109,609\n",
       "   - Total Budget: 86,799,373\n",
       "   - Total Latest Estimate: 86,659,265"
      ],
      "text/plain": [
       "<IPython.core.display.Markdown object>"
      ]
     },
     "metadata": {},
     "output_type": "display_data"
    }
   ],
   "source": [
    "from IPython.display import display, Markdown\n",
    "display(Markdown(json.loads(json_str)[\"final_answer\"]))"
   ]
  },
  {
   "cell_type": "markdown",
   "metadata": {},
   "source": [
    "### Working-1"
   ]
  }
 ],
 "metadata": {
  "kernelspec": {
   "display_name": "drl_venv",
   "language": "python",
   "name": "python3"
  },
  "language_info": {
   "codemirror_mode": {
    "name": "ipython",
    "version": 3
   },
   "file_extension": ".py",
   "mimetype": "text/x-python",
   "name": "python",
   "nbconvert_exporter": "python",
   "pygments_lexer": "ipython3",
   "version": "3.12.4"
  }
 },
 "nbformat": 4,
 "nbformat_minor": 2
}
