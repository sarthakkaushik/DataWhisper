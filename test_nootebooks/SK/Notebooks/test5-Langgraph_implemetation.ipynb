{
 "cells": [
  {
   "cell_type": "code",
   "execution_count": 1,
   "metadata": {},
   "outputs": [
    {
     "name": "stderr",
     "output_type": "stream",
     "text": [
      "c:\\Users\\skaushik047\\Desktop\\WORK\\DRL\\V2\\Excel_LLM\\drl_venv\\Lib\\site-packages\\tqdm\\auto.py:21: TqdmWarning: IProgress not found. Please update jupyter and ipywidgets. See https://ipywidgets.readthedocs.io/en/stable/user_install.html\n",
      "  from .autonotebook import tqdm as notebook_tqdm\n"
     ]
    }
   ],
   "source": [
    "import streamlit as st\n",
    "st.set_page_config(layout=\"wide\")\n",
    "import os\n",
    "from streamlit_extras.add_vertical_space import add_vertical_space\n",
    "from dataclasses import dataclass\n",
    "from tools.new_excel_agent import excel_llm_agent\n",
    "# Set the title for the Streamlit app\n",
    "# Create a file uploader in the sidebar\n",
    "from langchain.callbacks.base import BaseCallbackHandler\n",
    "import pandas as pd\n",
    "import openai\n",
    "from tools.viz_plotly import get_primer,format_question,run_request\n",
    "import warnings\n",
    "from st_aggrid import AgGrid\n",
    "from st_aggrid.grid_options_builder import GridOptionsBuilder\n",
    "from streamlit_pandas_profiling import st_profile_report\n",
    "from ydata_profiling import ProfileReport\n",
    "import plotly.graph_objects as go\n",
    "import plotly.express as px\n",
    "import os\n",
    "\n",
    "from langchain_openai import OpenAI\n",
    "from langchain_openai import AzureChatOpenAI\n",
    "from langchain_openai import AzureOpenAIEmbeddings\n",
    "from dotenv import load_dotenv\n",
    "load_dotenv()\n",
    "\n",
    "\n",
    "from langchain.agents.agent_types import AgentType\n",
    "from langchain_experimental.agents.agent_toolkits import create_pandas_dataframe_agent\n",
    "\n",
    "from langchain.pydantic_v1 import BaseModel, Field\n",
    "from langchain.tools import BaseTool, StructuredTool, tool\n",
    "from pydantic import BaseModel, Field\n",
    "from typing import List\n",
    "import pandas as pd\n",
    "from pydantic.config import ConfigDict\n",
    "\n",
    "\n"
   ]
  },
  {
   "cell_type": "code",
   "execution_count": 2,
   "metadata": {},
   "outputs": [
    {
     "name": "stderr",
     "output_type": "stream",
     "text": [
      "<>:6: SyntaxWarning: invalid escape sequence '\\d'\n",
      "<>:7: SyntaxWarning: invalid escape sequence '\\d'\n",
      "<>:8: SyntaxWarning: invalid escape sequence '\\d'\n",
      "<>:9: SyntaxWarning: invalid escape sequence '\\d'\n",
      "<>:6: SyntaxWarning: invalid escape sequence '\\d'\n",
      "<>:7: SyntaxWarning: invalid escape sequence '\\d'\n",
      "<>:8: SyntaxWarning: invalid escape sequence '\\d'\n",
      "<>:9: SyntaxWarning: invalid escape sequence '\\d'\n",
      "C:\\Users\\skaushik047\\AppData\\Local\\Temp\\2\\ipykernel_4484\\3430145268.py:6: SyntaxWarning: invalid escape sequence '\\d'\n",
      "  folder_path = '.\\data\\client\\LLM'\n",
      "C:\\Users\\skaushik047\\AppData\\Local\\Temp\\2\\ipykernel_4484\\3430145268.py:7: SyntaxWarning: invalid escape sequence '\\d'\n",
      "  df1=pd.read_csv('.\\data\\client\\LLM Data_2.csv')\n",
      "C:\\Users\\skaushik047\\AppData\\Local\\Temp\\2\\ipykernel_4484\\3430145268.py:8: SyntaxWarning: invalid escape sequence '\\d'\n",
      "  df2=pd.read_csv('.\\data\\client\\LLM Data.csv')\n",
      "C:\\Users\\skaushik047\\AppData\\Local\\Temp\\2\\ipykernel_4484\\3430145268.py:9: SyntaxWarning: invalid escape sequence '\\d'\n",
      "  df3=pd.read_csv('.\\data\\client\\product master_old.csv')\n"
     ]
    }
   ],
   "source": [
    "import pandas as pd\n",
    "import glob\n",
    "import os\n",
    "\n",
    "# Define the path to the directory containing the CSV files\n",
    "folder_path = '.\\data\\client\\LLM'\n",
    "df1=pd.read_csv('.\\data\\client\\LLM Data_2.csv')\n",
    "df2=pd.read_csv('.\\data\\client\\LLM Data.csv')\n",
    "df3=pd.read_csv('.\\data\\client\\product master_old.csv')\n",
    "\n",
    "\n",
    "\n",
    "# Use glob to get all CSV file paths in the folder\n",
    "csv_files = glob.glob(os.path.join(folder_path, '*.csv'))\n",
    "\n",
    "# Initialize an empty list to store DataFrames\n",
    "dataframes = []\n",
    "\n",
    "# Loop through the list of CSV files and read each one into a DataFrame\n",
    "for file in csv_files:\n",
    "  df = pd.read_csv(file)\n",
    "  dataframes.append(df)\n",
    "\n",
    "dataframes.append(df1)\n",
    "dataframes.append(df2)\n",
    "dataframes.append(df3)\n",
    "\n",
    "file_list=[]\n",
    "file_list.append(\"LLM Data_2\")\n",
    "\n",
    "file_list.append(\"LLM Data\")\n",
    "\n",
    "file_list.append(\"product master\")\n",
    "\n",
    "selected_files=file_list.copy()\n",
    "\n",
    "selected_dataframes = [dataframes[file_list.index(file)] for file in selected_files]\n"
   ]
  },
  {
   "cell_type": "code",
   "execution_count": 2,
   "metadata": {},
   "outputs": [
    {
     "name": "stderr",
     "output_type": "stream",
     "text": [
      "c:\\Users\\skaushik047\\Desktop\\WORK\\DRL\\V2\\Excel_LLM\\drl_venv\\Lib\\site-packages\\langchain_openai\\embeddings\\base.py:212: UserWarning: WARNING! deployment_name is not default parameter.\n",
      "                    deployment_name was transferred to model_kwargs.\n",
      "                    Please confirm that deployment_name is what you intended.\n",
      "  warnings.warn(\n"
     ]
    }
   ],
   "source": [
    "aoai_api_key = os.getenv(\"AZURE_OPENAI_API_KEY\") \n",
    "aoai_endpoint = os.getenv(\"AZURE_OPENAI_ENDPOINT\")\n",
    "aoai_api_version = os.getenv(\"AZURE_OPENAI_API_VERSION\")\n",
    "\n",
    "llm = AzureChatOpenAI(\n",
    "    model=\"gpt-4o\",\n",
    "    deployment_name=\"gpt-4o\",\n",
    "    api_key=aoai_api_key,\n",
    "    azure_endpoint=aoai_endpoint,\n",
    "    api_version=aoai_api_version,\n",
    ")\n",
    "\n",
    "\n",
    "# You need to deploy your own embedding model as well as your own chat completion model\n",
    "embed_model = AzureOpenAIEmbeddings(\n",
    "    model=\"text-embedding-ada-002\",\n",
    "    deployment_name=\"text-embedding-ada-002\",\n",
    "    api_key=aoai_api_key,\n",
    "    azure_endpoint=aoai_endpoint,\n",
    "    api_version=aoai_api_version,\n",
    ")"
   ]
  },
  {
   "cell_type": "code",
   "execution_count": 14,
   "metadata": {},
   "outputs": [
    {
     "data": {
      "text/plain": [
       "AIMessage(content='Hello! How can I assist you today?', response_metadata={'token_usage': {'completion_tokens': 9, 'prompt_tokens': 8, 'total_tokens': 17}, 'model_name': 'gpt-4o-2024-05-13', 'system_fingerprint': 'fp_abc28019ad', 'finish_reason': 'stop', 'logprobs': None, 'content_filter_results': {}}, id='run-2ddb9cd7-f0cb-4b96-bb03-cd6b8b31a236-0', usage_metadata={'input_tokens': 8, 'output_tokens': 9, 'total_tokens': 17})"
      ]
     },
     "execution_count": 14,
     "metadata": {},
     "output_type": "execute_result"
    }
   ],
   "source": [
    "llm.invoke(\"hi\")"
   ]
  },
  {
   "cell_type": "markdown",
   "metadata": {},
   "source": [
    "Leets create Structured output"
   ]
  },
  {
   "cell_type": "code",
   "execution_count": null,
   "metadata": {},
   "outputs": [],
   "source": []
  }
 ],
 "metadata": {
  "kernelspec": {
   "display_name": "drl_venv",
   "language": "python",
   "name": "python3"
  },
  "language_info": {
   "codemirror_mode": {
    "name": "ipython",
    "version": 3
   },
   "file_extension": ".py",
   "mimetype": "text/x-python",
   "name": "python",
   "nbconvert_exporter": "python",
   "pygments_lexer": "ipython3",
   "version": "3.12.4"
  }
 },
 "nbformat": 4,
 "nbformat_minor": 2
}
