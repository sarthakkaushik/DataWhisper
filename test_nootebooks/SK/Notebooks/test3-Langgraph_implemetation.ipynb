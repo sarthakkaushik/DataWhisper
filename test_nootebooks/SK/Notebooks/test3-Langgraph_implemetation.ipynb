{
 "cells": [
  {
   "cell_type": "code",
   "execution_count": 2,
   "metadata": {},
   "outputs": [],
   "source": [
    "import streamlit as st\n",
    "st.set_page_config(layout=\"wide\")\n",
    "import os\n",
    "from streamlit_extras.add_vertical_space import add_vertical_space\n",
    "from dataclasses import dataclass\n",
    "from tools.new_excel_agent import excel_llm_agent\n",
    "# Set the title for the Streamlit app\n",
    "# Create a file uploader in the sidebar\n",
    "from langchain.callbacks.base import BaseCallbackHandler\n",
    "import pandas as pd\n",
    "import openai\n",
    "from tools.viz_plotly import get_primer,format_question,run_request\n",
    "import warnings\n",
    "from st_aggrid import AgGrid\n",
    "from st_aggrid.grid_options_builder import GridOptionsBuilder\n",
    "from streamlit_pandas_profiling import st_profile_report\n",
    "from ydata_profiling import ProfileReport\n",
    "import plotly.graph_objects as go\n",
    "import plotly.express as px\n",
    "import os\n",
    "\n",
    "from langchain_openai import OpenAI\n",
    "from langchain_openai import AzureChatOpenAI\n",
    "from langchain_openai import AzureOpenAIEmbeddings\n",
    "from dotenv import load_dotenv\n",
    "load_dotenv()\n",
    "\n",
    "\n",
    "from langchain.agents.agent_types import AgentType\n",
    "from langchain_experimental.agents.agent_toolkits import create_pandas_dataframe_agent\n",
    "\n",
    "from langchain.pydantic_v1 import BaseModel, Field\n",
    "from langchain.tools import BaseTool, StructuredTool, tool\n",
    "from pydantic import BaseModel, Field\n",
    "from typing import List\n",
    "import pandas as pd\n",
    "from pydantic.config import ConfigDict\n",
    "\n",
    "\n"
   ]
  },
  {
   "cell_type": "code",
   "execution_count": 8,
   "metadata": {},
   "outputs": [
    {
     "name": "stderr",
     "output_type": "stream",
     "text": [
      "<>:6: SyntaxWarning: invalid escape sequence '\\d'\n",
      "<>:7: SyntaxWarning: invalid escape sequence '\\d'\n",
      "<>:8: SyntaxWarning: invalid escape sequence '\\d'\n",
      "<>:9: SyntaxWarning: invalid escape sequence '\\d'\n",
      "<>:6: SyntaxWarning: invalid escape sequence '\\d'\n",
      "<>:7: SyntaxWarning: invalid escape sequence '\\d'\n",
      "<>:8: SyntaxWarning: invalid escape sequence '\\d'\n",
      "<>:9: SyntaxWarning: invalid escape sequence '\\d'\n",
      "C:\\Users\\skaushik047\\AppData\\Local\\Temp\\2\\ipykernel_6416\\3430145268.py:6: SyntaxWarning: invalid escape sequence '\\d'\n",
      "  folder_path = '.\\data\\client\\LLM'\n",
      "C:\\Users\\skaushik047\\AppData\\Local\\Temp\\2\\ipykernel_6416\\3430145268.py:7: SyntaxWarning: invalid escape sequence '\\d'\n",
      "  df1=pd.read_csv('.\\data\\client\\LLM Data_2.csv')\n",
      "C:\\Users\\skaushik047\\AppData\\Local\\Temp\\2\\ipykernel_6416\\3430145268.py:8: SyntaxWarning: invalid escape sequence '\\d'\n",
      "  df2=pd.read_csv('.\\data\\client\\LLM Data.csv')\n",
      "C:\\Users\\skaushik047\\AppData\\Local\\Temp\\2\\ipykernel_6416\\3430145268.py:9: SyntaxWarning: invalid escape sequence '\\d'\n",
      "  df3=pd.read_csv('.\\data\\client\\product master_old.csv')\n"
     ]
    }
   ],
   "source": [
    "import pandas as pd\n",
    "import glob\n",
    "import os\n",
    "\n",
    "# Define the path to the directory containing the CSV files\n",
    "folder_path = '.\\data\\client\\LLM'\n",
    "df1=pd.read_csv('.\\data\\client\\LLM Data_2.csv')\n",
    "df2=pd.read_csv('.\\data\\client\\LLM Data.csv')\n",
    "df3=pd.read_csv('.\\data\\client\\product master_old.csv')\n",
    "\n",
    "\n",
    "\n",
    "# Use glob to get all CSV file paths in the folder\n",
    "csv_files = glob.glob(os.path.join(folder_path, '*.csv'))\n",
    "\n",
    "# Initialize an empty list to store DataFrames\n",
    "dataframes = []\n",
    "\n",
    "# Loop through the list of CSV files and read each one into a DataFrame\n",
    "for file in csv_files:\n",
    "  df = pd.read_csv(file)\n",
    "  dataframes.append(df)\n",
    "\n",
    "dataframes.append(df1)\n",
    "dataframes.append(df2)\n",
    "dataframes.append(df3)\n",
    "\n",
    "file_list=[]\n",
    "file_list.append(\"LLM Data_2\")\n",
    "\n",
    "file_list.append(\"LLM Data\")\n",
    "\n",
    "file_list.append(\"product master\")\n",
    "\n",
    "selected_files=file_list.copy()\n",
    "\n",
    "selected_dataframes = [dataframes[file_list.index(file)] for file in selected_files]\n"
   ]
  },
  {
   "cell_type": "markdown",
   "metadata": {},
   "source": [
    "## Creating Tools"
   ]
  },
  {
   "cell_type": "markdown",
   "metadata": {},
   "source": [
    "### Tool-1- Given a path read the doc and return a dataframe\n"
   ]
  },
  {
   "cell_type": "code",
   "execution_count": 96,
   "metadata": {},
   "outputs": [],
   "source": [
    "class df_input(BaseModel):\n",
    "    loc:List[str]\n",
    "\n",
    "# @tool\n",
    "# def Read_dataframe(locs:List[str])-> None:\n",
    "#     \"\"\"From the give location read the data\"\"\"\n",
    "#     loc=locs[0]\n",
    "#     print(loc)\n",
    "#     # df=pd.read_csv(loc)\n",
    "#     return \n",
    "\n",
    "def Read_dataframe(locs:List[str])-> None:\n",
    "    \"\"\"From the give location read the data\"\"\"\n",
    "    loc=locs[0]\n",
    "    print(loc)\n",
    "    # df=pd.read_csv(loc)\n",
    "    return \n",
    "\n",
    "df_tool=StructuredTool.from_function(\n",
    "    func=Read_dataframe,\n",
    "    name=\"Read Dataframe\",\n",
    "    description=\"Read data from the give location\"\n",
    "\n",
    ")\n"
   ]
  },
  {
   "cell_type": "code",
   "execution_count": 99,
   "metadata": {},
   "outputs": [
    {
     "data": {
      "text/plain": [
       "{'locs': {'title': 'Locs', 'type': 'array', 'items': {'type': 'string'}}}"
      ]
     },
     "execution_count": 99,
     "metadata": {},
     "output_type": "execute_result"
    }
   ],
   "source": [
    "df_tool.args\n"
   ]
  },
  {
   "cell_type": "code",
   "execution_count": 91,
   "metadata": {},
   "outputs": [
    {
     "name": "stderr",
     "output_type": "stream",
     "text": [
      "<>:1: SyntaxWarning: invalid escape sequence '\\d'\n",
      "<>:1: SyntaxWarning: invalid escape sequence '\\d'\n",
      "C:\\Users\\skaushik047\\AppData\\Local\\Temp\\2\\ipykernel_6416\\4226447692.py:1: SyntaxWarning: invalid escape sequence '\\d'\n",
      "  path=['.\\data\\client\\LLM Data_2.csv']\n"
     ]
    },
    {
     "ename": "ValidationError",
     "evalue": "1 validation error for Read_dataframeSchema\n__root__\n  Read_dataframeSchema expected dict not list (type=type_error)",
     "output_type": "error",
     "traceback": [
      "\u001b[1;31m---------------------------------------------------------------------------\u001b[0m",
      "\u001b[1;31mValueError\u001b[0m                                Traceback (most recent call last)",
      "File \u001b[1;32mc:\\Users\\skaushik047\\Desktop\\WORK\\DRL\\V2\\Excel_LLM\\drl_venv\\Lib\\site-packages\\pydantic\\v1\\main.py:522\u001b[0m, in \u001b[0;36mBaseModel.parse_obj\u001b[1;34m(cls, obj)\u001b[0m\n\u001b[0;32m    521\u001b[0m \u001b[38;5;28;01mtry\u001b[39;00m:\n\u001b[1;32m--> 522\u001b[0m     obj \u001b[38;5;241m=\u001b[39m \u001b[38;5;28;43mdict\u001b[39;49m\u001b[43m(\u001b[49m\u001b[43mobj\u001b[49m\u001b[43m)\u001b[49m\n\u001b[0;32m    523\u001b[0m \u001b[38;5;28;01mexcept\u001b[39;00m (\u001b[38;5;167;01mTypeError\u001b[39;00m, \u001b[38;5;167;01mValueError\u001b[39;00m) \u001b[38;5;28;01mas\u001b[39;00m e:\n",
      "\u001b[1;31mValueError\u001b[0m: dictionary update sequence element #0 has length 28; 2 is required",
      "\nThe above exception was the direct cause of the following exception:\n",
      "\u001b[1;31mValidationError\u001b[0m                           Traceback (most recent call last)",
      "Cell \u001b[1;32mIn[91], line 2\u001b[0m\n\u001b[0;32m      1\u001b[0m path\u001b[38;5;241m=\u001b[39m[\u001b[38;5;124m'\u001b[39m\u001b[38;5;124m.\u001b[39m\u001b[38;5;124m\\\u001b[39m\u001b[38;5;124mdata\u001b[39m\u001b[38;5;124m\\\u001b[39m\u001b[38;5;124mclient\u001b[39m\u001b[38;5;124m\\\u001b[39m\u001b[38;5;124mLLM Data_2.csv\u001b[39m\u001b[38;5;124m'\u001b[39m]\n\u001b[1;32m----> 2\u001b[0m df1\u001b[38;5;241m=\u001b[39m\u001b[43mRead_dataframe\u001b[49m\u001b[38;5;241;43m.\u001b[39;49m\u001b[43mrun\u001b[49m\u001b[43m(\u001b[49m\u001b[43mpath\u001b[49m\u001b[43m)\u001b[49m\n",
      "File \u001b[1;32mc:\\Users\\skaushik047\\Desktop\\WORK\\DRL\\V2\\Excel_LLM\\drl_venv\\Lib\\site-packages\\langchain_core\\tools.py:615\u001b[0m, in \u001b[0;36mBaseTool.run\u001b[1;34m(self, tool_input, verbose, start_color, color, callbacks, tags, metadata, run_name, run_id, config, tool_call_id, **kwargs)\u001b[0m\n\u001b[0;32m    613\u001b[0m \u001b[38;5;28;01mif\u001b[39;00m error_to_raise:\n\u001b[0;32m    614\u001b[0m     run_manager\u001b[38;5;241m.\u001b[39mon_tool_error(error_to_raise)\n\u001b[1;32m--> 615\u001b[0m     \u001b[38;5;28;01mraise\u001b[39;00m error_to_raise\n\u001b[0;32m    616\u001b[0m output \u001b[38;5;241m=\u001b[39m _format_output(content, artifact, tool_call_id, \u001b[38;5;28mself\u001b[39m\u001b[38;5;241m.\u001b[39mname, status)\n\u001b[0;32m    617\u001b[0m run_manager\u001b[38;5;241m.\u001b[39mon_tool_end(output, color\u001b[38;5;241m=\u001b[39mcolor, name\u001b[38;5;241m=\u001b[39m\u001b[38;5;28mself\u001b[39m\u001b[38;5;241m.\u001b[39mname, \u001b[38;5;241m*\u001b[39m\u001b[38;5;241m*\u001b[39mkwargs)\n",
      "File \u001b[1;32mc:\\Users\\skaushik047\\Desktop\\WORK\\DRL\\V2\\Excel_LLM\\drl_venv\\Lib\\site-packages\\langchain_core\\tools.py:578\u001b[0m, in \u001b[0;36mBaseTool.run\u001b[1;34m(self, tool_input, verbose, start_color, color, callbacks, tags, metadata, run_name, run_id, config, tool_call_id, **kwargs)\u001b[0m\n\u001b[0;32m    576\u001b[0m context \u001b[38;5;241m=\u001b[39m copy_context()\n\u001b[0;32m    577\u001b[0m context\u001b[38;5;241m.\u001b[39mrun(_set_config_context, child_config)\n\u001b[1;32m--> 578\u001b[0m tool_args, tool_kwargs \u001b[38;5;241m=\u001b[39m \u001b[38;5;28;43mself\u001b[39;49m\u001b[38;5;241;43m.\u001b[39;49m\u001b[43m_to_args_and_kwargs\u001b[49m\u001b[43m(\u001b[49m\u001b[43mtool_input\u001b[49m\u001b[43m)\u001b[49m\n\u001b[0;32m    579\u001b[0m \u001b[38;5;28;01mif\u001b[39;00m signature(\u001b[38;5;28mself\u001b[39m\u001b[38;5;241m.\u001b[39m_run)\u001b[38;5;241m.\u001b[39mparameters\u001b[38;5;241m.\u001b[39mget(\u001b[38;5;124m\"\u001b[39m\u001b[38;5;124mrun_manager\u001b[39m\u001b[38;5;124m\"\u001b[39m):\n\u001b[0;32m    580\u001b[0m     tool_kwargs[\u001b[38;5;124m\"\u001b[39m\u001b[38;5;124mrun_manager\u001b[39m\u001b[38;5;124m\"\u001b[39m] \u001b[38;5;241m=\u001b[39m run_manager\n",
      "File \u001b[1;32mc:\\Users\\skaushik047\\Desktop\\WORK\\DRL\\V2\\Excel_LLM\\drl_venv\\Lib\\site-packages\\langchain_core\\tools.py:501\u001b[0m, in \u001b[0;36mBaseTool._to_args_and_kwargs\u001b[1;34m(self, tool_input)\u001b[0m\n\u001b[0;32m    500\u001b[0m \u001b[38;5;28;01mdef\u001b[39;00m \u001b[38;5;21m_to_args_and_kwargs\u001b[39m(\u001b[38;5;28mself\u001b[39m, tool_input: Union[\u001b[38;5;28mstr\u001b[39m, Dict]) \u001b[38;5;241m-\u001b[39m\u001b[38;5;241m>\u001b[39m Tuple[Tuple, Dict]:\n\u001b[1;32m--> 501\u001b[0m     tool_input \u001b[38;5;241m=\u001b[39m \u001b[38;5;28;43mself\u001b[39;49m\u001b[38;5;241;43m.\u001b[39;49m\u001b[43m_parse_input\u001b[49m\u001b[43m(\u001b[49m\u001b[43mtool_input\u001b[49m\u001b[43m)\u001b[49m\n\u001b[0;32m    502\u001b[0m     \u001b[38;5;66;03m# For backwards compatibility, if run_input is a string,\u001b[39;00m\n\u001b[0;32m    503\u001b[0m     \u001b[38;5;66;03m# pass as a positional argument.\u001b[39;00m\n\u001b[0;32m    504\u001b[0m     \u001b[38;5;28;01mif\u001b[39;00m \u001b[38;5;28misinstance\u001b[39m(tool_input, \u001b[38;5;28mstr\u001b[39m):\n",
      "File \u001b[1;32mc:\\Users\\skaushik047\\Desktop\\WORK\\DRL\\V2\\Excel_LLM\\drl_venv\\Lib\\site-packages\\langchain_core\\tools.py:454\u001b[0m, in \u001b[0;36mBaseTool._parse_input\u001b[1;34m(self, tool_input)\u001b[0m\n\u001b[0;32m    452\u001b[0m \u001b[38;5;28;01melse\u001b[39;00m:\n\u001b[0;32m    453\u001b[0m     \u001b[38;5;28;01mif\u001b[39;00m input_args \u001b[38;5;129;01mis\u001b[39;00m \u001b[38;5;129;01mnot\u001b[39;00m \u001b[38;5;28;01mNone\u001b[39;00m:\n\u001b[1;32m--> 454\u001b[0m         result \u001b[38;5;241m=\u001b[39m \u001b[43minput_args\u001b[49m\u001b[38;5;241;43m.\u001b[39;49m\u001b[43mparse_obj\u001b[49m\u001b[43m(\u001b[49m\u001b[43mtool_input\u001b[49m\u001b[43m)\u001b[49m\n\u001b[0;32m    455\u001b[0m         \u001b[38;5;28;01mreturn\u001b[39;00m {\n\u001b[0;32m    456\u001b[0m             k: \u001b[38;5;28mgetattr\u001b[39m(result, k)\n\u001b[0;32m    457\u001b[0m             \u001b[38;5;28;01mfor\u001b[39;00m k, v \u001b[38;5;129;01min\u001b[39;00m result\u001b[38;5;241m.\u001b[39mdict()\u001b[38;5;241m.\u001b[39mitems()\n\u001b[0;32m    458\u001b[0m             \u001b[38;5;28;01mif\u001b[39;00m k \u001b[38;5;129;01min\u001b[39;00m tool_input\n\u001b[0;32m    459\u001b[0m         }\n\u001b[0;32m    460\u001b[0m     \u001b[38;5;28;01mreturn\u001b[39;00m tool_input\n",
      "File \u001b[1;32mc:\\Users\\skaushik047\\Desktop\\WORK\\DRL\\V2\\Excel_LLM\\drl_venv\\Lib\\site-packages\\pydantic\\v1\\main.py:525\u001b[0m, in \u001b[0;36mBaseModel.parse_obj\u001b[1;34m(cls, obj)\u001b[0m\n\u001b[0;32m    523\u001b[0m     \u001b[38;5;28;01mexcept\u001b[39;00m (\u001b[38;5;167;01mTypeError\u001b[39;00m, \u001b[38;5;167;01mValueError\u001b[39;00m) \u001b[38;5;28;01mas\u001b[39;00m e:\n\u001b[0;32m    524\u001b[0m         exc \u001b[38;5;241m=\u001b[39m \u001b[38;5;167;01mTypeError\u001b[39;00m(\u001b[38;5;124mf\u001b[39m\u001b[38;5;124m'\u001b[39m\u001b[38;5;132;01m{\u001b[39;00m\u001b[38;5;28mcls\u001b[39m\u001b[38;5;241m.\u001b[39m\u001b[38;5;18m__name__\u001b[39m\u001b[38;5;132;01m}\u001b[39;00m\u001b[38;5;124m expected dict not \u001b[39m\u001b[38;5;132;01m{\u001b[39;00mobj\u001b[38;5;241m.\u001b[39m\u001b[38;5;18m__class__\u001b[39m\u001b[38;5;241m.\u001b[39m\u001b[38;5;18m__name__\u001b[39m\u001b[38;5;132;01m}\u001b[39;00m\u001b[38;5;124m'\u001b[39m)\n\u001b[1;32m--> 525\u001b[0m         \u001b[38;5;28;01mraise\u001b[39;00m ValidationError([ErrorWrapper(exc, loc\u001b[38;5;241m=\u001b[39mROOT_KEY)], \u001b[38;5;28mcls\u001b[39m) \u001b[38;5;28;01mfrom\u001b[39;00m \u001b[38;5;21;01me\u001b[39;00m\n\u001b[0;32m    526\u001b[0m \u001b[38;5;28;01mreturn\u001b[39;00m \u001b[38;5;28mcls\u001b[39m(\u001b[38;5;241m*\u001b[39m\u001b[38;5;241m*\u001b[39mobj)\n",
      "\u001b[1;31mValidationError\u001b[0m: 1 validation error for Read_dataframeSchema\n__root__\n  Read_dataframeSchema expected dict not list (type=type_error)"
     ]
    }
   ],
   "source": [
    "path=['.\\data\\client\\LLM Data_2.csv']\n",
    "df1=Read_dataframe.run(path)"
   ]
  },
  {
   "cell_type": "code",
   "execution_count": 83,
   "metadata": {},
   "outputs": [
    {
     "data": {
      "text/html": [
       "<div>\n",
       "<style scoped>\n",
       "    .dataframe tbody tr th:only-of-type {\n",
       "        vertical-align: middle;\n",
       "    }\n",
       "\n",
       "    .dataframe tbody tr th {\n",
       "        vertical-align: top;\n",
       "    }\n",
       "\n",
       "    .dataframe thead th {\n",
       "        text-align: right;\n",
       "    }\n",
       "</style>\n",
       "<table border=\"1\" class=\"dataframe\">\n",
       "  <thead>\n",
       "    <tr style=\"text-align: right;\">\n",
       "      <th></th>\n",
       "      <th>ID</th>\n",
       "      <th>Country</th>\n",
       "      <th>Product</th>\n",
       "      <th>FY Year</th>\n",
       "      <th>Month</th>\n",
       "      <th>DRL Sales</th>\n",
       "      <th>Market Sales</th>\n",
       "    </tr>\n",
       "  </thead>\n",
       "  <tbody>\n",
       "    <tr>\n",
       "      <th>0</th>\n",
       "      <td>1</td>\n",
       "      <td>Russia</td>\n",
       "      <td>P#1 - INS</td>\n",
       "      <td>2024</td>\n",
       "      <td>1</td>\n",
       "      <td>2653956</td>\n",
       "      <td>2706956</td>\n",
       "    </tr>\n",
       "    <tr>\n",
       "      <th>1</th>\n",
       "      <td>2</td>\n",
       "      <td>Russia</td>\n",
       "      <td>P#1 - INS</td>\n",
       "      <td>2024</td>\n",
       "      <td>2</td>\n",
       "      <td>3032958</td>\n",
       "      <td>3085958</td>\n",
       "    </tr>\n",
       "    <tr>\n",
       "      <th>2</th>\n",
       "      <td>3</td>\n",
       "      <td>Russia</td>\n",
       "      <td>P#1 - INS</td>\n",
       "      <td>2024</td>\n",
       "      <td>3</td>\n",
       "      <td>3184540</td>\n",
       "      <td>3237540</td>\n",
       "    </tr>\n",
       "    <tr>\n",
       "      <th>3</th>\n",
       "      <td>4</td>\n",
       "      <td>Russia</td>\n",
       "      <td>P#1 - INS</td>\n",
       "      <td>2024</td>\n",
       "      <td>4</td>\n",
       "      <td>3070801</td>\n",
       "      <td>3123801</td>\n",
       "    </tr>\n",
       "    <tr>\n",
       "      <th>4</th>\n",
       "      <td>5</td>\n",
       "      <td>Russia</td>\n",
       "      <td>P#1 - INS</td>\n",
       "      <td>2024</td>\n",
       "      <td>5</td>\n",
       "      <td>1064154</td>\n",
       "      <td>1117154</td>\n",
       "    </tr>\n",
       "  </tbody>\n",
       "</table>\n",
       "</div>"
      ],
      "text/plain": [
       "   ID Country    Product  FY Year  Month  DRL Sales  Market Sales\n",
       "0   1  Russia  P#1 - INS     2024      1    2653956       2706956\n",
       "1   2  Russia  P#1 - INS     2024      2    3032958       3085958\n",
       "2   3  Russia  P#1 - INS     2024      3    3184540       3237540\n",
       "3   4  Russia  P#1 - INS     2024      4    3070801       3123801\n",
       "4   5  Russia  P#1 - INS     2024      5    1064154       1117154"
      ]
     },
     "execution_count": 83,
     "metadata": {},
     "output_type": "execute_result"
    }
   ],
   "source": [
    "df.head()"
   ]
  },
  {
   "cell_type": "code",
   "execution_count": 78,
   "metadata": {},
   "outputs": [
    {
     "name": "stdout",
     "output_type": "stream",
     "text": [
      "hello\n",
      "world\n",
      "example\n"
     ]
    }
   ],
   "source": [
    "from typing import List\n",
    "\n",
    "# Define a function that takes a list of strings as an argument\n",
    "def process_strings(strings: List[str]) -> None:\n",
    "    for s in strings:\n",
    "        print(s)\n",
    "\n",
    "# Example usage\n",
    "my_strings = [\"hello\", \"world\", \"example\"]\n",
    "process_strings(my_strings)"
   ]
  },
  {
   "cell_type": "code",
   "execution_count": 73,
   "metadata": {},
   "outputs": [
    {
     "name": "stdout",
     "output_type": "stream",
     "text": [
      "Error: 1 validation error for Read_dataframeSchema\n",
      "__root__\n",
      "  Read_dataframeSchema expected dict not list (type=type_error)\n"
     ]
    }
   ],
   "source": [
    "import pandas as pd\n",
    "from typing import List\n",
    "from langchain_core.tools import tool\n",
    "\n",
    "@tool\n",
    "def Read_dataframe(locs: List) -> pd.DataFrame:\n",
    "  \"\"\"From the given location read the data\"\"\"\n",
    "  loc = locs[0]\n",
    "  df = pd.read_csv(loc)\n",
    "  return df\n",
    "\n",
    "# Direct function call for debugging\n",
    "try:\n",
    "  df1 = Read_dataframe(['./data/client/LLM Data_2.csv'])\n",
    "  print(df1.head())\n",
    "except Exception as e:\n",
    "  print(f\"Error: {e}\")\n",
    "\n",
    "# # Using .run() method\n",
    "# try:\n",
    "#   df1 = Read_dataframe.run(['./data/client/LLM Data_2.csv'])\n",
    "#   print(df1.head())\n",
    "# except Exception as e:\n",
    "#   print(f\"Error: {e}\")"
   ]
  },
  {
   "cell_type": "code",
   "execution_count": 58,
   "metadata": {},
   "outputs": [
    {
     "data": {
      "text/plain": [
       "StructuredTool(name='Read_dataframe', description='From the give location read the data', args_schema=<class 'pydantic.v1.main.Read_dataframeSchema'>, func=<function Read_dataframe at 0x000001D1136F7560>)"
      ]
     },
     "execution_count": 58,
     "metadata": {},
     "output_type": "execute_result"
    }
   ],
   "source": [
    "Read_dataframe"
   ]
  },
  {
   "cell_type": "code",
   "execution_count": 54,
   "metadata": {},
   "outputs": [
    {
     "name": "stderr",
     "output_type": "stream",
     "text": [
      "<>:1: SyntaxWarning: invalid escape sequence '\\d'\n",
      "<>:1: SyntaxWarning: invalid escape sequence '\\d'\n",
      "C:\\Users\\skaushik047\\AppData\\Local\\Temp\\2\\ipykernel_6416\\1177003710.py:1: SyntaxWarning: invalid escape sequence '\\d'\n",
      "  df=Read_dataframe('.\\data\\client\\LLM Data_2.csv')\n"
     ]
    }
   ],
   "source": [
    "df=Read_dataframe('.\\data\\client\\LLM Data_2.csv')"
   ]
  },
  {
   "cell_type": "code",
   "execution_count": 55,
   "metadata": {},
   "outputs": [
    {
     "data": {
      "text/html": [
       "<div>\n",
       "<style scoped>\n",
       "    .dataframe tbody tr th:only-of-type {\n",
       "        vertical-align: middle;\n",
       "    }\n",
       "\n",
       "    .dataframe tbody tr th {\n",
       "        vertical-align: top;\n",
       "    }\n",
       "\n",
       "    .dataframe thead th {\n",
       "        text-align: right;\n",
       "    }\n",
       "</style>\n",
       "<table border=\"1\" class=\"dataframe\">\n",
       "  <thead>\n",
       "    <tr style=\"text-align: right;\">\n",
       "      <th></th>\n",
       "      <th>ID</th>\n",
       "      <th>Country</th>\n",
       "      <th>Product</th>\n",
       "      <th>FY Year</th>\n",
       "      <th>Month</th>\n",
       "      <th>DRL Sales</th>\n",
       "      <th>Market Sales</th>\n",
       "    </tr>\n",
       "  </thead>\n",
       "  <tbody>\n",
       "    <tr>\n",
       "      <th>0</th>\n",
       "      <td>1</td>\n",
       "      <td>Russia</td>\n",
       "      <td>P#1 - INS</td>\n",
       "      <td>2024</td>\n",
       "      <td>1</td>\n",
       "      <td>2653956</td>\n",
       "      <td>2706956</td>\n",
       "    </tr>\n",
       "    <tr>\n",
       "      <th>1</th>\n",
       "      <td>2</td>\n",
       "      <td>Russia</td>\n",
       "      <td>P#1 - INS</td>\n",
       "      <td>2024</td>\n",
       "      <td>2</td>\n",
       "      <td>3032958</td>\n",
       "      <td>3085958</td>\n",
       "    </tr>\n",
       "    <tr>\n",
       "      <th>2</th>\n",
       "      <td>3</td>\n",
       "      <td>Russia</td>\n",
       "      <td>P#1 - INS</td>\n",
       "      <td>2024</td>\n",
       "      <td>3</td>\n",
       "      <td>3184540</td>\n",
       "      <td>3237540</td>\n",
       "    </tr>\n",
       "    <tr>\n",
       "      <th>3</th>\n",
       "      <td>4</td>\n",
       "      <td>Russia</td>\n",
       "      <td>P#1 - INS</td>\n",
       "      <td>2024</td>\n",
       "      <td>4</td>\n",
       "      <td>3070801</td>\n",
       "      <td>3123801</td>\n",
       "    </tr>\n",
       "    <tr>\n",
       "      <th>4</th>\n",
       "      <td>5</td>\n",
       "      <td>Russia</td>\n",
       "      <td>P#1 - INS</td>\n",
       "      <td>2024</td>\n",
       "      <td>5</td>\n",
       "      <td>1064154</td>\n",
       "      <td>1117154</td>\n",
       "    </tr>\n",
       "  </tbody>\n",
       "</table>\n",
       "</div>"
      ],
      "text/plain": [
       "   ID Country    Product  FY Year  Month  DRL Sales  Market Sales\n",
       "0   1  Russia  P#1 - INS     2024      1    2653956       2706956\n",
       "1   2  Russia  P#1 - INS     2024      2    3032958       3085958\n",
       "2   3  Russia  P#1 - INS     2024      3    3184540       3237540\n",
       "3   4  Russia  P#1 - INS     2024      4    3070801       3123801\n",
       "4   5  Russia  P#1 - INS     2024      5    1064154       1117154"
      ]
     },
     "execution_count": 55,
     "metadata": {},
     "output_type": "execute_result"
    }
   ],
   "source": [
    "df.head()"
   ]
  }
 ],
 "metadata": {
  "kernelspec": {
   "display_name": "drl_venv",
   "language": "python",
   "name": "python3"
  },
  "language_info": {
   "codemirror_mode": {
    "name": "ipython",
    "version": 3
   },
   "file_extension": ".py",
   "mimetype": "text/x-python",
   "name": "python",
   "nbconvert_exporter": "python",
   "pygments_lexer": "ipython3",
   "version": "3.12.4"
  }
 },
 "nbformat": 4,
 "nbformat_minor": 2
}
