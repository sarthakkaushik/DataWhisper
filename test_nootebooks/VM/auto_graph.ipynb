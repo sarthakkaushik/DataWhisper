{
 "cells": [
  {
   "cell_type": "code",
   "execution_count": 9,
   "metadata": {},
   "outputs": [],
   "source": [
    "import os\n",
    "from langchain_openai import ChatOpenAI\n",
    "from langchain.prompts import PromptTemplate\n",
    "from langchain.output_parsers import PydanticOutputParser, JsonOutputToolsParser\n",
    "from langchain.prompts import PromptTemplate\n",
    "from langchain_core.pydantic_v1 import BaseModel, Field, validator\n",
    "from langchain_core.output_parsers import JsonOutputParser"
   ]
  },
  {
   "cell_type": "code",
   "execution_count": 2,
   "metadata": {},
   "outputs": [
    {
     "data": {
      "text/plain": [
       "True"
      ]
     },
     "execution_count": 2,
     "metadata": {},
     "output_type": "execute_result"
    }
   ],
   "source": [
    "from langchain.agents.agent_types import AgentType\n",
    "from langchain_experimental.agents.agent_toolkits import create_pandas_dataframe_agent\n",
    "\n",
    "from langchain.pydantic_v1 import BaseModel, Field\n",
    "from langchain.tools import BaseTool, StructuredTool, tool\n",
    "from pydantic import BaseModel, Field\n",
    "from typing import List\n",
    "import pandas as pd\n",
    "from pydantic.config import ConfigDict\n",
    "\n",
    "from langchain_openai import OpenAI\n",
    "from langchain_openai import AzureChatOpenAI\n",
    "from langchain_openai import AzureOpenAIEmbeddings\n",
    "from dotenv import load_dotenv\n",
    "load_dotenv()"
   ]
  },
  {
   "cell_type": "code",
   "execution_count": 10,
   "metadata": {},
   "outputs": [],
   "source": [
    "class Autograph(BaseModel):\n",
    "    graph_needed: bool = Field(\n",
    "        ..., description=\"For the answer produced by the CSV-agent for the user's query can a graph be constructed ? Give output either True or False\"\n",
    "    )\n",
    "    code: str = Field(\n",
    "        ..., description=\"Output code to be used to render the graph using python and plotly\"\n",
    "    )\n",
    "    \n",
    "\n",
    "parser = JsonOutputParser(pydantic_object=Autograph)"
   ]
  },
  {
   "cell_type": "code",
   "execution_count": 3,
   "metadata": {},
   "outputs": [],
   "source": [
    "# open_ai_api =\"\"\n",
    "# os.environ['OPENAI_API_KEY'] = open_ai_api\n",
    "# model = ChatOpenAI(temperature=0, model=\"gpt-4\")"
   ]
  },
  {
   "cell_type": "code",
   "execution_count": null,
   "metadata": {},
   "outputs": [],
   "source": [
    "aoai_api_key = os.getenv(\"AZURE_OPENAI_API_KEY\") \n",
    "aoai_endpoint = os.getenv(\"AZURE_OPENAI_ENDPOINT\")\n",
    "aoai_api_version = os.getenv(\"AZURE_OPENAI_API_VERSION\")\n",
    "\n",
    "llm = AzureChatOpenAI(\n",
    "    model=\"gpt-4o\",\n",
    "    deployment_name=\"gpt-4o\",\n",
    "    api_key=aoai_api_key,\n",
    "    azure_endpoint=aoai_endpoint,\n",
    "    api_version=aoai_api_version,\n",
    ")\n",
    "\n",
    "\n",
    "# You need to deploy your own embedding model as well as your own chat completion model\n",
    "embed_model = AzureOpenAIEmbeddings(\n",
    "    model=\"text-embedding-ada-002\",\n",
    "    deployment_name=\"text-embedding-ada-002\",\n",
    "    api_key=aoai_api_key,\n",
    "    azure_endpoint=aoai_endpoint,\n",
    "    api_version=aoai_api_version,\n",
    ")"
   ]
  },
  {
   "cell_type": "code",
   "execution_count": 4,
   "metadata": {},
   "outputs": [],
   "source": [
    "agent_question = \"Give me percentage distribution of department types within the firm\"\n",
    "agent_answer = \"Here is the percentage distribution of department types within the firm: Production: 67.20%,IT/IS: 16.08% Sales: 9.97% Software Engineering: 3.54% Admin Offices: 2.89% Executive Office: 0.32%\"\n",
    "\n",
    "template = \"\"\"\n",
    "Your task is to convert CSV-agent's answer into plotly graph object incapsulated into a function which does not take any variable as input, if possible.\n",
    "Using Python version 3.9.12, create a script using the dataframe df to graph the following: Ensure that the code that you are crafting in confined within the function create_plotly_figure(),which takes no postional argument.\n",
    "Refer to the following example below where it is showcased how an answer of the agent is first determined if it can be graphed. \n",
    "Just return the function create_plotly_figure() dont call the function, and a Boolean variable True or False depending if a graph can be made.\n",
    "Always employ various colors to showcase difference in the plot and when approriate also use \"hue\" to make the graphs more meaningful                \n",
    "\n",
    "Example:\n",
    "\n",
    "Input 1: user_question: Give me count of emplyment status within the firm\n",
    "Input 2: agent_answer: The count of employment status within the firm is as follows:\n",
    "\n",
    "Active: 207 employees\n",
    "Voluntarily Terminated: 88 employees\n",
    "Terminated for Cause: 16 employees \n",
    "\n",
    "Output 1: True\n",
    "Output 2: \n",
    "\n",
    "def create_plotly_figure():\n",
    "    employment_status = np.array([\"Active\", \"Voluntarily Terminated\", \"Terminated for Cause\"])\n",
    "    counts = np.array([207, 88, 16])\n",
    "\n",
    "    # Creating a DataFrame\n",
    "    df = pd.DataFrame({{'EmploymentStatus': employment_status, 'Count': counts}})\n",
    "\n",
    "    \n",
    "    fig = go.Figure(data=[go.Bar(x=df['EmploymentStatus'], y=df['Count'])])\n",
    "    fig.update_layout(title_text=\"Count of Employment Status\",\n",
    "                      xaxis_title=\"Employment Status\",\n",
    "                      yaxis_title=\"Count\") \n",
    "\n",
    "    \n",
    "    return fig \n",
    "Note that in output 2 you only have to give the code snipet nothing else\n",
    "\n",
    "Current Task: Please refer the the pervious examples and commands to produce a desired output\n",
    "\n",
    "Input 1: {agent_question}\n",
    "Input 2: {agent_answer}\n",
    "\n",
    "Format Requirement:\n",
    "{format_instructions}\n",
    "                       \n",
    "Answer:\n",
    "\n",
    "\"\"\""
   ]
  },
  {
   "cell_type": "code",
   "execution_count": 5,
   "metadata": {},
   "outputs": [],
   "source": [
    "prompt = PromptTemplate(\n",
    "    template= template,\n",
    "    input_variables= [\"agent_question\", \"agent_answer\"],\n",
    "    partial_variables={\"format_instructions\": parser.get_format_instructions()},\n",
    ")"
   ]
  },
  {
   "cell_type": "code",
   "execution_count": 6,
   "metadata": {},
   "outputs": [],
   "source": [
    "chain = prompt | model | parser\n",
    "\n",
    "answer = chain.invoke({\"agent_question\": agent_question ,\"agent_answer\": agent_answer})"
   ]
  },
  {
   "cell_type": "code",
   "execution_count": 7,
   "metadata": {},
   "outputs": [
    {
     "data": {
      "text/plain": [
       "{'graph_needed': True,\n",
       " 'code': \"def create_plotly_figure():\\n    import plotly.graph_objects as go\\n    import pandas as pd\\n    import numpy as np\\n\\n    department_types = np.array(['Production', 'IT/IS', 'Sales', 'Software Engineering', 'Admin Offices', 'Executive Office'])\\n    percentages = np.array([67.20, 16.08, 9.97, 3.54, 2.89, 0.32])\\n\\n    # Creating a DataFrame\\n    df = pd.DataFrame({'DepartmentTypes': department_types, 'Percentage': percentages})\\n\\n    fig = go.Figure(data=[go.Pie(labels=df['DepartmentTypes'], values=df['Percentage'], hole=.3)])\\n    fig.update_layout(title_text='Percentage Distribution of Department Types')\\n\\n    return fig\"}"
      ]
     },
     "execution_count": 7,
     "metadata": {},
     "output_type": "execute_result"
    }
   ],
   "source": [
    "answer"
   ]
  },
  {
   "cell_type": "code",
   "execution_count": 8,
   "metadata": {},
   "outputs": [
    {
     "data": {
      "text/plain": [
       "\"def create_plotly_figure():\\n    import plotly.graph_objects as go\\n    import pandas as pd\\n    import numpy as np\\n\\n    department_types = np.array(['Production', 'IT/IS', 'Sales', 'Software Engineering', 'Admin Offices', 'Executive Office'])\\n    percentages = np.array([67.20, 16.08, 9.97, 3.54, 2.89, 0.32])\\n\\n    # Creating a DataFrame\\n    df = pd.DataFrame({'DepartmentTypes': department_types, 'Percentage': percentages})\\n\\n    fig = go.Figure(data=[go.Pie(labels=df['DepartmentTypes'], values=df['Percentage'], hole=.3)])\\n    fig.update_layout(title_text='Percentage Distribution of Department Types')\\n\\n    return fig\""
      ]
     },
     "execution_count": 8,
     "metadata": {},
     "output_type": "execute_result"
    }
   ],
   "source": [
    "answer['code']"
   ]
  }
 ],
 "metadata": {
  "kernelspec": {
   "display_name": "KPMG_poc",
   "language": "python",
   "name": "python3"
  },
  "language_info": {
   "codemirror_mode": {
    "name": "ipython",
    "version": 3
   },
   "file_extension": ".py",
   "mimetype": "text/x-python",
   "name": "python",
   "nbconvert_exporter": "python",
   "pygments_lexer": "ipython3",
   "version": "3.12.4"
  }
 },
 "nbformat": 4,
 "nbformat_minor": 2
}
