{
 "cells": [
  {
   "cell_type": "code",
   "execution_count": 5,
   "metadata": {},
   "outputs": [
    {
     "name": "stdout",
     "output_type": "stream",
     "text": [
      "AgentActionMessageLog(tool='python_repl_ast', tool_input={'query': \"df1['Department'].value_counts(normalize=True) * 100\"}, log='\\nInvoking: `python_repl_ast` with `{\\'query\\': \"df1[\\'Department\\'].value_counts(normalize=True) * 100\"}`\\nresponded: I\\'m sorry, but it seems there was an error because the dataframe was not defined. Let me correct that.\\n\\n', message_log=[AIMessageChunk(content=\"I'm sorry, but it seems there was an error because the dataframe was not defined. Let me correct that.\", additional_kwargs={'function_call': {'arguments': '{\\n\"query\": \"df1[\\'Department\\'].value_counts(normalize=True) * 100\"\\n}', 'name': 'python_repl_ast'}})])\n"
     ]
    }
   ],
   "source": [
    "def get_first_string_of_last_list(data):\n",
    "    \"\"\"\n",
    "    Takes a list of lists and returns the first string object of the last list in the outer list.\n",
    "    \n",
    "    Parameters:\n",
    "    data (list): A list of lists, where each inner list contains string objects.\n",
    "    \n",
    "    Returns:\n",
    "    str: The first string object of the last list in the outer list, or None if the input is invalid.\n",
    "    \"\"\"\n",
    "    if data and isinstance(data, list) and all(isinstance(sublist, list) for sublist in data):\n",
    "        last_list = data[-1]  # Access the last list\n",
    "        if last_list and isinstance(last_list, list) and isinstance(last_list[0], str):\n",
    "            return last_list[0]  # Return the first string object of the last list\n",
    "    return None\n",
    "\n",
    "# Example usage:\n",
    "data = [\n",
    "    [\n",
    "        \"AgentActionMessageLog(tool='python_repl_ast', tool_input={'query': \\\"df['Department'].value_counts(normalize=True) * 100\\\"}, log='\\\\nInvoking: `python_repl_ast` with `{\\\\'query\\\\': \\\"df[\\\\'Department\\\\'].value_counts(normalize=True) * 100\\\"}`\\\\n\\\\n\\\\n', message_log=[AIMessageChunk(content='', additional_kwargs={'function_call': {'arguments': '{\\\\n\\\"query\\\": \\\"df[\\\\'Department\\\\'].value_counts(normalize=True) * 100\\\"\\\\n}', 'name': 'python_repl_ast'}})])\",\n",
    "        \"NameError: name 'df' is not defined\"\n",
    "    ],\n",
    "    [\n",
    "        \"AgentActionMessageLog(tool='python_repl_ast', tool_input={'query': \\\"df1['Department'].value_counts(normalize=True) * 100\\\"}, log='\\\\nInvoking: `python_repl_ast` with `{\\\\'query\\\\': \\\"df1[\\\\'Department\\\\'].value_counts(normalize=True) * 100\\\"}`\\\\nresponded: I\\\\'m sorry, but it seems there was an error because the dataframe was not defined. Let me correct that.\\\\n\\\\n', message_log=[AIMessageChunk(content=\\\"I'm sorry, but it seems there was an error because the dataframe was not defined. Let me correct that.\\\", additional_kwargs={'function_call': {'arguments': '{\\\\n\\\"query\\\": \\\"df1[\\\\'Department\\\\'].value_counts(normalize=True) * 100\\\"\\\\n}', 'name': 'python_repl_ast'}})])\",\n",
    "        \"Department\\nProduction              67.202572\\nIT/IS                   16.077170\\nSales                    9.967846\\nSoftware Engineering     3.536977\\nAdmin Offices            2.893891\\nExecutive Office         0.321543\\nName: proportion, dtype: float64\"\n",
    "    ]\n",
    "]\n",
    "\n",
    "# Call the function and print the result\n",
    "result = get_first_string_of_last_list(data)\n",
    "print(result)"
   ]
  },
  {
   "cell_type": "code",
   "execution_count": null,
   "metadata": {},
   "outputs": [],
   "source": []
  }
 ],
 "metadata": {
  "kernelspec": {
   "display_name": "KPMG_poc",
   "language": "python",
   "name": "python3"
  },
  "language_info": {
   "codemirror_mode": {
    "name": "ipython",
    "version": 3
   },
   "file_extension": ".py",
   "mimetype": "text/x-python",
   "name": "python",
   "nbconvert_exporter": "python",
   "pygments_lexer": "ipython3",
   "version": "3.9.18"
  }
 },
 "nbformat": 4,
 "nbformat_minor": 2
}
